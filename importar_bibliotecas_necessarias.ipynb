{
 "cells": [
  {
   "cell_type": "code",
   "execution_count": null,
   "id": "8323a010",
   "metadata": {},
   "outputs": [],
   "source": [
    "!pip install --upgrade pip"
   ]
  },
  {
   "cell_type": "code",
   "execution_count": null,
   "id": "37b65ef7",
   "metadata": {},
   "outputs": [],
   "source": [
    "# Instalação dos pacotes GCP\n",
    "!pip install google-cloud-bigquery google-cloud-bigquery-storage google-cloud-storage\n",
    "!pip install google-auth google-auth-oauthlib google-auth-httplib2\n",
    "\n",
    "# Pacotes de manipulação de dados\n",
    "!pip install pyarrow db-dtypes polars pandas numpy pandas-gbq json\n",
    "\n",
    "!pip install --update polars\n",
    "\n",
    "# biblioteca para decodificar HTML\n",
    "!pip install html\n",
    "\n",
    "# Biblioteca para detectar encoding de arquivos CSV\n",
    "!pip install chardet\n",
    "\n",
    "# Bibliotecas de visualização\n",
    "!pip install seaborn matplotlib\n",
    "\n",
    "# Biblioteca para testes estatísticos e cálculos científicos\n",
    "!pip install scipy statsmodels\n",
    "\n",
    "# Bibliotecas para gerenciamento de memório e expressões regulares\n",
    "!pip install gc rc\n"
   ]
  }
 ],
 "metadata": {
  "kernelspec": {
   "display_name": "Python 3",
   "language": "python",
   "name": "python3"
  },
  "language_info": {
   "codemirror_mode": {
    "name": "ipython",
    "version": 3
   },
   "file_extension": ".py",
   "mimetype": "text/x-python",
   "name": "python",
   "nbconvert_exporter": "python",
   "pygments_lexer": "ipython3",
   "version": "3.12.4"
  }
 },
 "nbformat": 4,
 "nbformat_minor": 5
}
