{
 "cells": [
  {
   "cell_type": "markdown",
   "id": "9f1b4522",
   "metadata": {},
   "source": [
    "#### Importando bibliotecas necessárias"
   ]
  },
  {
   "cell_type": "code",
   "execution_count": 44,
   "id": "b28a967a",
   "metadata": {},
   "outputs": [],
   "source": [
    "import sys\n",
    "import polars as pl\n",
    "import pandas as pd\n",
    "import os\n",
    "import gc\n",
    "import matplotlib.pyplot as plt\n",
    "import seaborn as sns\n",
    "import math\n",
    "\n",
    "sys.path.append('D:\\\\__case_ifood\\\\notebooks\\\\utils') # Defina aqui a pasta\n"
   ]
  },
  {
   "cell_type": "code",
   "execution_count": 113,
   "id": "bd59bf6d",
   "metadata": {},
   "outputs": [],
   "source": [
    "import importlib\n",
    "import utils\n",
    "\n",
    "# Recarregar o módulo 'utils'\n",
    "importlib.reload(utils)\n",
    "\n",
    "from utils import get_sales_data_some_columns, calculate_evaluation_metrics, calculate_engagement_custormers_two_orders, calculate_engagement_custormers_three_orders, calculate_engagement_custormers_three_plus_orders\n"
   ]
  },
  {
   "cell_type": "markdown",
   "id": "b7a89ee8",
   "metadata": {},
   "source": [
    "### A) – Definição de segmentações relevantes para o teste A/B\n",
    "\n",
    "A segmentação de usuários permite refinar a análise do impacto da campanha de cupons, identificando **grupos específicos** em que a ação foi mais ou menos eficaz. A seguir, estão os segmentos definidos com suas respectivas justificativas e critérios:\n",
    "\n",
    "---\n",
    "\n",
    "#### Segmentos utilizados\n",
    "\n",
    "| Segmento                           | Justificativa Estratégica                                                                 |\n",
    "|------------------------------------|--------------------------------------------------------------------------------------------|\n",
    "| **Cidade de entrega**              | Diferenças regionais foram nítidas nos resultados, com destaque em Cohen's d por cidade    |\n",
    "| **Faixa de preço do restaurante**     | Indica o ticket médio esperado; reflete a sensibilidade a descontos                        |\n",
    "| **Tempo de entrega do restaurante**| Pode impactar a percepção de valor e satisfação com a experiência de compra                |\n",
    "| **Origem do pedido**               | Canais distintos (web vs. mobile) podem ter padrões de comportamento diferentes            |\n",
    "\n",
    "---\n",
    "\n",
    "### B) Critérios utilizados por segmento\n",
    "\n",
    "- **Cidade de entrega:**  \n",
    "  Selecionadas as 9 principais cidades com maior volume de pedidos na base.\n",
    "\n",
    "- **Faixa de preço do restaurante (`price_range`):**  \n",
    "  Utilização direta da variável existente. o range do preço por restaurante pode ser relevante para buscar insights não identificados.\n",
    "\n",
    "- **Tempo de entrega do restaurante (`delivery_time`):**  \n",
    "  Criação de faixas com base em quantis ou limiares como:  \n",
    "  - Até 30 minutos → entrega rápida  \n",
    "  - De 31 a 50 minutos → entrega moderada  \n",
    "  - Acima de 50 minutos → entrega lenta\n",
    "\n",
    "- **Origem do pedido (`origin_platform`):**  \n",
    "  Agrupamento pelas categorias disponíveis na base, como `web`, `mobile`, `other`.\n",
    "\n",
    "---\n",
    "\n",
    "Essas segmentações serão utilizadas para analisar as métricas de desempenho da campanha (ARPU, engajamento), com o objetivo de identificar **grupos com maior retorno** e possíveis **oportunidades de personalização futura**."
   ]
  },
  {
   "cell_type": "code",
   "execution_count": null,
   "id": "f3aea340",
   "metadata": {},
   "outputs": [],
   "source": [
    "# Busca os dados necessários\n",
    "df_sales = get_sales_data_some_columns()"
   ]
  },
  {
   "cell_type": "markdown",
   "id": "1bfd2a9f",
   "metadata": {},
   "source": [
    "### C) Análise dos resultados"
   ]
  },
  {
   "cell_type": "markdown",
   "id": "d023e6b9",
   "metadata": {},
   "source": [
    "#### 1) Por cidade de entrega"
   ]
  },
  {
   "cell_type": "markdown",
   "id": "00dd69f2",
   "metadata": {},
   "source": [
    "##### ARPU"
   ]
  },
  {
   "cell_type": "code",
   "execution_count": 104,
   "id": "3f04acf4",
   "metadata": {},
   "outputs": [],
   "source": [
    "df_evaluation_metrics_by_address_city = calculate_evaluation_metrics(df_sales, \"delivery_address_city\")"
   ]
  },
  {
   "cell_type": "code",
   "execution_count": 98,
   "id": "1d5d0140",
   "metadata": {},
   "outputs": [],
   "source": [
    "# repurchase customers\n",
    "\n",
    "df_customers_with_2_orders = calculate_engagement_custormers_two_orders(df_sales, \"delivery_address_city\")\n",
    "\n",
    "df_customers_with_3_orders = calculate_engagement_custormers_three_orders(df_sales, \"delivery_address_city\")\n",
    "\n",
    "df_customers_with_3_plus_orders = calculate_engagement_custormers_three_plus_orders(df_sales, \"delivery_address_city\")"
   ]
  },
  {
   "cell_type": "code",
   "execution_count": 19,
   "id": "73df34ab",
   "metadata": {},
   "outputs": [],
   "source": [
    "# Join DFs\n",
    "\n",
    "df_evaluation_metrics_by_address_city = df_evaluation_metrics_by_address_city.join(\n",
    "    df_customers_with_2_orders,\n",
    "    on=[\"is_target\",\"delivery_address_city\"],\n",
    "    how=\"left\"\n",
    ").with_columns([\n",
    "    (pl.col(\"customers_with_2_orders\") / pl.col(\"unique_customers\")).round(3).alias(\"percent_customers_with_2_orders\")\n",
    "]).join(\n",
    "    df_customers_with_3_orders,\n",
    "    on=[\"is_target\",\"delivery_address_city\"],\n",
    "    how=\"left\"\n",
    ").with_columns([\n",
    "    (pl.col(\"customers_with_3_orders\") / pl.col(\"unique_customers\")).round(3).alias(\"percent_customers_with_3_orders\")\n",
    "]).join(\n",
    "    df_customers_with_3_plus_orders,\n",
    "    on=[\"is_target\",\"delivery_address_city\"],\n",
    "    how=\"left\"\n",
    ").with_columns([\n",
    "    (pl.col(\"customers_with_3_plus_orders\") / pl.col(\"unique_customers\")).round(3).alias(\"percent_customers_with_3_plus_orders\")\n",
    "]\n",
    ")"
   ]
  },
  {
   "cell_type": "code",
   "execution_count": null,
   "id": "a8cd6019",
   "metadata": {},
   "outputs": [
    {
     "name": "stderr",
     "output_type": "stream",
     "text": [
      "C:\\Users\\fsgon\\AppData\\Local\\Temp\\ipykernel_1352\\2422142694.py:12: FutureWarning: \n",
      "\n",
      "Passing `palette` without assigning `hue` is deprecated and will be removed in v0.14.0. Assign the `y` variable to `hue` and set `legend=False` for the same effect.\n",
      "\n",
      "  sns.barplot(data=df_em_pandas, x=\"percent_revenue\", y=\"delivery_address_city\", palette=\"viridis\")\n"
     ]
    },
    {
     "data": {
      "image/png": "[encoded data removed]",
      "text/plain": [
       "<Figure size 1000x600 with 1 Axes>"
      ]
     },
     "metadata": {},
     "output_type": "display_data"
    }
   ],
   "source": [
    "df_em_pandas = df_evaluation_metrics_by_address_city.group_by(\"delivery_address_city\").agg([\n",
    "    pl.col(\"revenue\").sum().alias(\"total_amount\")\n",
    "]).with_columns([\n",
    "    (pl.col(\"total_amount\") / pl.col(\"total_amount\").sum()).round(3).alias(\"percent_revenue\"),\n",
    "    pl.col(\"total_amount\").rank(\"ordinal\",descending=True).alias(\"rn\")\n",
    "]).filter(pl.col(\"rn\") <= 20).select(\"delivery_address_city\",\"total_amount\",\"percent_revenue\").to_pandas()\n",
    "\n",
    "df_em_pandas= df_em_pandas.sort_values(by=\"total_amount\", ascending=False)\n",
    "\n",
    "# Plotar gráfico\n",
    "plt.figure(figsize=(10, 6))\n",
    "sns.barplot(data=df_em_pandas, x=\"percent_revenue\", y=\"delivery_address_city\", palette=\"viridis\")\n",
    "\n",
    "plt.title(\"Total de vendas (R$ %) por cidade\")\n",
    "plt.xlabel(\"Valor vendido (%)\")\n",
    "plt.ylabel(\"Cidade\")\n",
    "plt.grid(axis=\"x\", linestyle=\"--\", alpha=0.6)\n",
    "plt.tight_layout()\n",
    "plt.show()"
   ]
  },
  {
   "cell_type": "code",
   "execution_count": 36,
   "id": "f48f4660",
   "metadata": {},
   "outputs": [],
   "source": [
    "# A partir do gráfico acima, irei considerar as primeiras 9 cidades para avaliar as métricas ARPU e Engajamento (Recompra)\n",
    "\n",
    "cities = [\"Sao Paulo\", \"Rio De Janeiro\", \"Belo Horizonte\", \"Curitiba\", \n",
    "           \"Recife\", \"Salvador\", \"Brasilia\", \"Fortaleza\",\"Porto Alegre\"]"
   ]
  },
  {
   "cell_type": "code",
   "execution_count": 39,
   "id": "60cdf6e6",
   "metadata": {},
   "outputs": [],
   "source": [
    "\n",
    "\n",
    "# Lista para armazenar os resultados\n",
    "results = []\n",
    "\n",
    "# Laço para processar cada cidade\n",
    "for city in cities:\n",
    "    df_city = df_evaluation_metrics_by_address_city.filter(pl.col(\"delivery_address_city\") == city)\n",
    "\n",
    "    serie_target = df_city.filter(pl.col(\"is_target\") == \"target\")[\"ARPU\"]\n",
    "    serie_control = df_city.filter(pl.col(\"is_target\") == \"control\")[\"ARPU\"]\n",
    "\n",
    "    # Verifica se ambas as séries têm valor\n",
    "    if len(serie_target) == 1 and len(serie_control) == 1:\n",
    "        arpu_target_val = serie_target.item()\n",
    "        arpu_control_val = serie_control.item()\n",
    "\n",
    "        diff_abs = arpu_target_val - arpu_control_val\n",
    "        diff_pct = (arpu_target_val / arpu_control_val - 1) if arpu_control_val != 0 else None\n",
    "\n",
    "        results.append({\n",
    "            \"city\": city,\n",
    "            \"ARPU_target\": round(arpu_target_val, 2),\n",
    "            \"ARPU_control\": round(arpu_control_val, 2),\n",
    "            \"absolute_diff\": round(diff_abs, 2),\n",
    "            \"percent_diff\": round(diff_pct * 100, 2) if diff_pct is not None else None\n",
    "        })\n",
    "    else:\n",
    "        print(f\"Aviso: Dados ausentes para '{city}' em um dos grupos. Pulando.\")\n",
    "# Converter lista de resultados em DataFrame Polars\n",
    "df_arpu_by_city = pl.DataFrame(results)"
   ]
  },
  {
   "cell_type": "code",
   "execution_count": 40,
   "id": "16c19670",
   "metadata": {},
   "outputs": [
    {
     "name": "stderr",
     "output_type": "stream",
     "text": [
      "C:\\Users\\fsgon\\AppData\\Local\\Temp\\ipykernel_1352\\4074509797.py:8: FutureWarning: \n",
      "\n",
      "Passing `palette` without assigning `hue` is deprecated and will be removed in v0.14.0. Assign the `y` variable to `hue` and set `legend=False` for the same effect.\n",
      "\n",
      "  sns.barplot(data=df_arpu_by_city_pd, x=\"absolute_diff\", y=\"city\", palette=\"viridis\")\n"
     ]
    },
    {
     "data": {
      "image/png": "[encoded data removed]",
      "text/plain": [
       "<Figure size 1000x600 with 1 Axes>"
      ]
     },
     "metadata": {},
     "output_type": "display_data"
    }
   ],
   "source": [
    "df_arpu_by_city_pd = df_arpu_by_city.to_pandas()\n",
    "\n",
    "# Ordenar do maior para o menor\n",
    "df_arpu_by_city_pd = df_arpu_by_city_pd.sort_values(by=\"absolute_diff\", ascending=False)\n",
    "\n",
    "# Plotar gráfico\n",
    "plt.figure(figsize=(10, 6))\n",
    "sns.barplot(data=df_arpu_by_city_pd, x=\"absolute_diff\", y=\"city\", palette=\"viridis\")\n",
    "\n",
    "plt.title(\"Diferença Absoluta do ARPU (Teste vs. Controle) por Cidade\")\n",
    "plt.xlabel(\"Diferença Absoluta (R$)\")\n",
    "plt.ylabel(\"Cidade\")\n",
    "plt.grid(axis=\"x\", linestyle=\"--\", alpha=0.6)\n",
    "plt.tight_layout()\n",
    "plt.show()"
   ]
  },
  {
   "cell_type": "code",
   "execution_count": 41,
   "id": "ca6b4645",
   "metadata": {},
   "outputs": [],
   "source": [
    "result_std_by_city = []\n",
    "\n",
    "for city in cities:\n",
    "    df_std_arpu_city = (\n",
    "        df_sales\n",
    "        .filter(pl.col(\"delivery_address_city\") == city)\n",
    "        .group_by([\"delivery_address_city\", \"is_target\"])  # ← corrigido aqui\n",
    "        .agg([\n",
    "            pl.col(\"amount\").std().alias(\"std_arpu\")\n",
    "        ])\n",
    "    )\n",
    "\n",
    "    if df_std_arpu_city.height == 2:\n",
    "        grupo_test = df_std_arpu_city.filter(pl.col(\"is_target\") == \"target\")\n",
    "        grupo_control = df_std_arpu_city.filter(pl.col(\"is_target\") == \"control\")\n",
    "\n",
    "        std_test = grupo_test[\"std_arpu\"].item()\n",
    "        std_control = grupo_control[\"std_arpu\"].item()\n",
    "\n",
    "        result_std_by_city.append({\n",
    "            \"city\": city,\n",
    "            \"std_test\": std_test,\n",
    "            \"std_control\": std_control\n",
    "        })\n",
    "\n",
    "df_std_arpu_by_city = pl.DataFrame(result_std_by_city)"
   ]
  },
  {
   "cell_type": "code",
   "execution_count": 43,
   "id": "c1340ea3",
   "metadata": {},
   "outputs": [],
   "source": [
    "df_evaluation_metrics_by_address_city = df_evaluation_metrics_by_address_city.join(\n",
    "    df_std_arpu_by_city,\n",
    "    left_on=[\"delivery_address_city\"],\n",
    "    right_on=[\"city\"],\n",
    "    how=\"left\"\n",
    ")"
   ]
  },
  {
   "cell_type": "code",
   "execution_count": null,
   "id": "735af0ae",
   "metadata": {},
   "outputs": [
    {
     "name": "stdout",
     "output_type": "stream",
     "text": [
      "Cidade: Sao Paulo | Cohen's d: 0.34005\n",
      "Cidade: Rio De Janeiro | Cohen's d: 0.44655\n",
      "Cidade: Belo Horizonte | Cohen's d: 0.09537\n",
      "Cidade: Curitiba | Cohen's d: 0.50621\n",
      "Cidade: Recife | Cohen's d: 0.44627\n",
      "Cidade: Salvador | Cohen's d: 0.47726\n",
      "Cidade: Brasilia | Cohen's d: 0.58418\n",
      "Cidade: Fortaleza | Cohen's d: 0.64122\n",
      "Cidade: Porto Alegre | Cohen's d: 0.29869\n"
     ]
    }
   ],
   "source": [
    "# Calculating Cohen's d statistic for ARPU to measure effect size\n",
    "# Cohen's d is a measure of effect size that indicates the difference between two means in terms of standard deviations.\n",
    "# It is calculated as the difference between the means divided by the pooled standard deviation.\n",
    "\n",
    "results_cohens_by_city = []\n",
    "\n",
    "for city in cities:\n",
    "\n",
    "    arpu_target_city = df_evaluation_metrics_by_address_city.filter(pl.col(\"is_target\") == \"target\", pl.col(\"delivery_address_city\") == city)[\"ARPU\"].item()\n",
    "    arpu_control_city = df_evaluation_metrics_by_address_city.filter(pl.col(\"is_target\") == \"control\", pl.col(\"delivery_address_city\") == city)[\"ARPU\"].item()\n",
    "    sd_target_city = df_evaluation_metrics_by_address_city.filter(pl.col(\"is_target\") == \"target\", pl.col(\"delivery_address_city\") == city)[\"std_test\"].item()\n",
    "    sd_control_city = df_evaluation_metrics_by_address_city.filter(pl.col(\"is_target\") == \"control\", pl.col(\"delivery_address_city\") == city)[\"std_control\"].item()\n",
    "\n",
    "    cohen_d = round((arpu_target_city - arpu_control_city) / (math.sqrt(((sd_target_city**2 + sd_control_city**2) / 2))),5)\n",
    "\n",
    "    results_cohens_by_city.append({\n",
    "        \"city\":city,\n",
    "        \"cohens_d\":cohen_d\n",
    "    })\n",
    "\n",
    "df_cohens_by_city = pl.DataFrame(results_cohens_by_city)"
   ]
  },
  {
   "cell_type": "code",
   "execution_count": 60,
   "id": "51f1c846",
   "metadata": {},
   "outputs": [],
   "source": [
    "df_cohens_by_city = df_cohens_by_city.with_columns([\n",
    "    pl.when(pl.col(\"cohens_d\") < 0.2).then(pl.lit(\"Muito pequeno\"))\n",
    "     .when(pl.col(\"cohens_d\") < 0.5).then(pl.lit(\"Pequeno\"))\n",
    "     .when(pl.col(\"cohens_d\") < 0.8).then(pl.lit(\"Médio\"))\n",
    "     .otherwise(pl.lit(\"Grande\"))\n",
    "     .alias(\"classificacao_efeito\")\n",
    "])"
   ]
  },
  {
   "cell_type": "code",
   "execution_count": null,
   "id": "1bd4e817",
   "metadata": {},
   "outputs": [
    {
     "data": {
      "text/html": [
       "<div><style>\n",
       ".dataframe > thead > tr,\n",
       ".dataframe > tbody > tr {\n",
       "  text-align: right;\n",
       "  white-space: pre-wrap;\n",
       "}\n",
       "</style>\n",
       "<small>shape: (371, 20)</small><table border=\"1\" class=\"dataframe\"><thead><tr><th>is_target</th><th>delivery_address_city</th><th>orders</th><th>unique_customers</th><th>revenue</th><th>TKM</th><th>ARPU</th><th>total_revenue</th><th>total_orders</th><th>total_customers</th><th>customers_with_2_orders</th><th>percent_customers_with_2_orders</th><th>customers_with_3_orders</th><th>percent_customers_with_3_orders</th><th>customers_with_3_plus_orders</th><th>percent_customers_with_3_plus_orders</th><th>std_test</th><th>std_control</th><th>cohens_d</th><th>classificacao_efeito</th></tr><tr><td>str</td><td>str</td><td>u32</td><td>u32</td><td>f64</td><td>f64</td><td>f64</td><td>f64</td><td>u32</td><td>u32</td><td>u32</td><td>f64</td><td>u32</td><td>f64</td><td>u32</td><td>f64</td><td>f64</td><td>f64</td><td>f64</td><td>str</td></tr></thead><tbody><tr><td>&quot;target&quot;</td><td>&quot;Mesquita&quot;</td><td>403</td><td>188</td><td>13823.6</td><td>34.3</td><td>73.53</td><td>25271.59</td><td>747</td><td>346</td><td>45</td><td>0.239</td><td>21</td><td>0.112</td><td>25</td><td>0.133</td><td>null</td><td>null</td><td>null</td><td>null</td></tr><tr><td>&quot;target&quot;</td><td>&quot;Canoas&quot;</td><td>1808</td><td>772</td><td>70579.24</td><td>39.04</td><td>91.42</td><td>126801.81</td><td>3263</td><td>1455</td><td>159</td><td>0.206</td><td>88</td><td>0.114</td><td>117</td><td>0.152</td><td>null</td><td>null</td><td>null</td><td>null</td></tr><tr><td>&quot;target&quot;</td><td>&quot;Volta Redonda&quot;</td><td>4301</td><td>1720</td><td>152421.86</td><td>35.44</td><td>88.62</td><td>271095.74</td><td>7575</td><td>3143</td><td>378</td><td>0.22</td><td>199</td><td>0.116</td><td>339</td><td>0.197</td><td>null</td><td>null</td><td>null</td><td>null</td></tr><tr><td>&quot;target&quot;</td><td>&quot;Atibaia&quot;</td><td>33</td><td>26</td><td>1549.0</td><td>46.94</td><td>59.58</td><td>3125.3</td><td>68</td><td>56</td><td>7</td><td>0.269</td><td>null</td><td>null</td><td>null</td><td>null</td><td>null</td><td>null</td><td>null</td><td>null</td></tr><tr><td>&quot;target&quot;</td><td>&quot;Osasco&quot;</td><td>7053</td><td>2915</td><td>327698.23</td><td>46.46</td><td>112.42</td><td>563936.4</td><td>12103</td><td>5266</td><td>610</td><td>0.209</td><td>306</td><td>0.105</td><td>528</td><td>0.181</td><td>null</td><td>null</td><td>null</td><td>null</td></tr><tr><td>&hellip;</td><td>&hellip;</td><td>&hellip;</td><td>&hellip;</td><td>&hellip;</td><td>&hellip;</td><td>&hellip;</td><td>&hellip;</td><td>&hellip;</td><td>&hellip;</td><td>&hellip;</td><td>&hellip;</td><td>&hellip;</td><td>&hellip;</td><td>&hellip;</td><td>&hellip;</td><td>&hellip;</td><td>&hellip;</td><td>&hellip;</td><td>&hellip;</td></tr><tr><td>&quot;control&quot;</td><td>&quot;Aracaju&quot;</td><td>1951</td><td>964</td><td>71575.35</td><td>36.69</td><td>74.25</td><td>173124.15</td><td>4802</td><td>2124</td><td>157</td><td>0.163</td><td>66</td><td>0.068</td><td>125</td><td>0.13</td><td>null</td><td>null</td><td>null</td><td>null</td></tr><tr><td>&quot;control&quot;</td><td>&quot;Santarem&quot;</td><td>3</td><td>3</td><td>134.5</td><td>44.83</td><td>44.83</td><td>255.9</td><td>6</td><td>6</td><td>null</td><td>null</td><td>null</td><td>null</td><td>null</td><td>null</td><td>null</td><td>null</td><td>null</td><td>null</td></tr><tr><td>&quot;control&quot;</td><td>&quot;Sao Leopoldo&quot;</td><td>106</td><td>60</td><td>3464.3</td><td>32.68</td><td>57.74</td><td>7972.01</td><td>228</td><td>130</td><td>6</td><td>0.1</td><td>2</td><td>0.033</td><td>7</td><td>0.117</td><td>null</td><td>null</td><td>null</td><td>null</td></tr><tr><td>&quot;control&quot;</td><td>&quot;Rio De Janeiro&quot;</td><td>180693</td><td>58766</td><td>9.5512e6</td><td>52.86</td><td>162.53</td><td>2.3212e7</td><td>438097</td><td>132571</td><td>9571</td><td>0.163</td><td>5331</td><td>0.091</td><td>14487</td><td>0.247</td><td>49.363292</td><td>51.6952</td><td>0.44655</td><td>&quot;Pequeno&quot;</td></tr><tr><td>&quot;control&quot;</td><td>&quot;Joao Pessoa&quot;</td><td>12507</td><td>4297</td><td>496867.67</td><td>39.73</td><td>115.63</td><td>1.1701e6</td><td>29845</td><td>9573</td><td>721</td><td>0.168</td><td>368</td><td>0.086</td><td>950</td><td>0.221</td><td>null</td><td>null</td><td>null</td><td>null</td></tr></tbody></table></div>"
      ],
      "text/plain": [
       "shape: (371, 20)\n",
       "┌───────────┬────────────┬────────┬────────────┬───┬───────────┬────────────┬──────────┬───────────┐\n",
       "│ is_target ┆ delivery_a ┆ orders ┆ unique_cus ┆ … ┆ std_test  ┆ std_contro ┆ cohens_d ┆ classific │\n",
       "│ ---       ┆ ddress_cit ┆ ---    ┆ tomers     ┆   ┆ ---       ┆ l          ┆ ---      ┆ acao_efei │\n",
       "│ str       ┆ y          ┆ u32    ┆ ---        ┆   ┆ f64       ┆ ---        ┆ f64      ┆ to        │\n",
       "│           ┆ ---        ┆        ┆ u32        ┆   ┆           ┆ f64        ┆          ┆ ---       │\n",
       "│           ┆ str        ┆        ┆            ┆   ┆           ┆            ┆          ┆ str       │\n",
       "╞═══════════╪════════════╪════════╪════════════╪═══╪═══════════╪════════════╪══════════╪═══════════╡\n",
       "│ target    ┆ Mesquita   ┆ 403    ┆ 188        ┆ … ┆ null      ┆ null       ┆ null     ┆ null      │\n",
       "│ target    ┆ Canoas     ┆ 1808   ┆ 772        ┆ … ┆ null      ┆ null       ┆ null     ┆ null      │\n",
       "│ target    ┆ Volta      ┆ 4301   ┆ 1720       ┆ … ┆ null      ┆ null       ┆ null     ┆ null      │\n",
       "│           ┆ Redonda    ┆        ┆            ┆   ┆           ┆            ┆          ┆           │\n",
       "│ target    ┆ Atibaia    ┆ 33     ┆ 26         ┆ … ┆ null      ┆ null       ┆ null     ┆ null      │\n",
       "│ target    ┆ Osasco     ┆ 7053   ┆ 2915       ┆ … ┆ null      ┆ null       ┆ null     ┆ null      │\n",
       "│ …         ┆ …          ┆ …      ┆ …          ┆ … ┆ …         ┆ …          ┆ …        ┆ …         │\n",
       "│ control   ┆ Aracaju    ┆ 1951   ┆ 964        ┆ … ┆ null      ┆ null       ┆ null     ┆ null      │\n",
       "│ control   ┆ Santarem   ┆ 3      ┆ 3          ┆ … ┆ null      ┆ null       ┆ null     ┆ null      │\n",
       "│ control   ┆ Sao        ┆ 106    ┆ 60         ┆ … ┆ null      ┆ null       ┆ null     ┆ null      │\n",
       "│           ┆ Leopoldo   ┆        ┆            ┆   ┆           ┆            ┆          ┆           │\n",
       "│ control   ┆ Rio De     ┆ 180693 ┆ 58766      ┆ … ┆ 49.363292 ┆ 51.6952    ┆ 0.44655  ┆ Pequeno   │\n",
       "│           ┆ Janeiro    ┆        ┆            ┆   ┆           ┆            ┆          ┆           │\n",
       "│ control   ┆ Joao       ┆ 12507  ┆ 4297       ┆ … ┆ null      ┆ null       ┆ null     ┆ null      │\n",
       "│           ┆ Pessoa     ┆        ┆            ┆   ┆           ┆            ┆          ┆           │\n",
       "└───────────┴────────────┴────────┴────────────┴───┴───────────┴────────────┴──────────┴───────────┘"
      ]
     },
     "execution_count": 61,
     "metadata": {},
     "output_type": "execute_result"
    }
   ],
   "source": [
    "df_evaluation_metrics_by_address_city = df_evaluation_metrics_by_address_city.join(\n",
    "    df_cohens_by_city,\n",
    "    left_on=\"delivery_address_city\",\n",
    "    right_on=\"city\",\n",
    "    how=\"left\"\n",
    ")\n",
    "\n",
    "df_arpu_by_city = df_arpu_by_city.join(\n",
    "    df_cohens_by_city,\n",
    "    on=\"city\",\n",
    "    how=\"left\"\n",
    ")"
   ]
  },
  {
   "cell_type": "code",
   "execution_count": 73,
   "id": "eaea242a",
   "metadata": {},
   "outputs": [],
   "source": [
    "# Inicializa uma lista para armazenar os novos valores de 'unique_customers'\n",
    "updated_values = []\n",
    "\n",
    "for city in cities:\n",
    "    # Filtra os dados para a cidade e 'is_target' == 'target'\n",
    "    filtered_data = df_evaluation_metrics_by_address_city.filter(\n",
    "        (pl.col(\"is_target\") == \"target\") & (pl.col(\"delivery_address_city\") == city)\n",
    "    )\n",
    "    \n",
    "    # Obtém o valor de 'unique_customers' da cidade filtrada\n",
    "    if filtered_data.shape[0] > 0:\n",
    "        unique_customers_value = filtered_data[\"unique_customers\"].item()  # Pega o valor de 'unique_customers'\n",
    "    else:\n",
    "        unique_customers_value = 0  # Se não houver dados, atribui um valor padrão\n",
    "\n",
    "    # Adiciona o valor à lista de valores atualizados para 'unique_customers'\n",
    "    updated_values.append((city, unique_customers_value))\n",
    "\n",
    "# Agora, atualize o df_arpu_by_city com os novos valores\n",
    "for city, unique_customers_value in updated_values:\n",
    "    df_arpu_by_city = df_arpu_by_city.with_columns(\n",
    "        pl.when(pl.col(\"city\") == city)\n",
    "        .then(pl.lit(unique_customers_value))\n",
    "        .otherwise(pl.col(\"unique_customers\"))\n",
    "        .alias(\"unique_customers\")\n",
    "    )\n"
   ]
  },
  {
   "cell_type": "code",
   "execution_count": 80,
   "id": "a57e38cf",
   "metadata": {},
   "outputs": [
    {
     "name": "stdout",
     "output_type": "stream",
     "text": [
      "shape: (9, 4)\n",
      "┌────────────────┬───────────────┬──────────────────┬───────────────────┐\n",
      "│ city           ┆ absolute_diff ┆ unique_customers ┆ revenue_estimated │\n",
      "│ ---            ┆ ---           ┆ ---              ┆ ---               │\n",
      "│ str            ┆ f64           ┆ i32              ┆ f64               │\n",
      "╞════════════════╪═══════════════╪══════════════════╪═══════════════════╡\n",
      "│ Sao Paulo      ┆ 20.32         ┆ 122492           ┆ 651657.0          │\n",
      "│ Rio De Janeiro ┆ 22.57         ┆ 73805            ┆ 558704.0          │\n",
      "│ Belo Horizonte ┆ 10.69         ┆ 16282            ┆ -70175.0          │\n",
      "│ Curitiba       ┆ 13.96         ┆ 14526            ┆ -15107.0          │\n",
      "│ Recife         ┆ 11.01         ┆ 15816            ┆ -63106.0          │\n",
      "│ Salvador       ┆ 13.72         ┆ 12869            ┆ -16472.0          │\n",
      "│ Brasilia       ┆ 17.58         ┆ 16292            ┆ 42033.0           │\n",
      "│ Fortaleza      ┆ 15.74         ┆ 16942            ┆ 12537.0           │\n",
      "│ Porto Alegre   ┆ 11.44         ┆ 12650            ┆ -45034.0          │\n",
      "└────────────────┴───────────────┴──────────────────┴───────────────────┘\n"
     ]
    }
   ],
   "source": [
    "print(df_arpu_by_city.select(pl.col(\"city\"), pl.col(\"absolute_diff\"), pl.col(\"unique_customers\")).with_columns([\n",
    "    ((pl.col(\"absolute_diff\") - 15) * pl.col(\"unique_customers\")).round(0).alias(\"revenue_estimated\")\n",
    "])\n",
    ")"
   ]
  },
  {
   "cell_type": "markdown",
   "id": "2927deb2",
   "metadata": {},
   "source": [
    "##### Análise de impacto financeiro por Cidade\n",
    "\n",
    "Com base na diferença de ARPU entre os grupos *teste* e *controle*, no número de clientes impactados e no custo estimado de R$15,00 por cupom, calculamos o retorno financeiro líquido por cidade.\n",
    "\n",
    "##### Cidades com retorno positivo relevante\n",
    "\n",
    "Estas cidades demonstraram excelente performance, com receita incremental acima do custo da campanha:\n",
    "\n",
    "| Cidade         | Diferença ARPU (R$) | Clientes Impactados | Receita Estimada (R$) | Cohen's d |\n",
    "|----------------|---------------------|----------------------|------------------------|---------|\n",
    "| **São Paulo**        | 20,32                  | 122.492               | **651.657**            | 0.34 |\n",
    "| **Rio de Janeiro**   | 22,57                  | 73.805                | **558.704**            | 0.45 |\n",
    "| **Brasília**         | 17,58                  | 16.292                | **42.033**             | 0.58 |\n",
    "\n",
    "---\n",
    "\n",
    "##### Cidades com retorno levemente negativo ou abaixo de R$20k\n",
    "\n",
    "Nesses casos, o resultado foi próximo da neutralidade, indicando potencial de ajustes na campanha (ex: cupons menores, targeting mais refinado):\n",
    "\n",
    "| Cidade         | Diferença ARPU (R$) | Clientes Impactados | Receita Estimada (R$) | Cohen's d |\n",
    "|----------------|---------------------|----------------------|------------------------|---------|\n",
    "| **Fortaleza**        | 15,74                  | 16.942                | **12.537**             | 0.64 |\n",
    "| **Curitiba**        | 13,96                  | 14.526                | –15.107                | 0.51 |\n",
    "| **Salvador**        | 13,72                  | 12.869                | –16.472                | 0.48 |\n",
    "\n",
    "---\n",
    "\n",
    "##### Cidades com retorno negativo expressivo\n",
    "\n",
    "Apesar de efeitos estatísticos positivos, nessas cidades o custo da campanha superou o ganho adicional, sugerindo reavaliação da estratégia:\n",
    "\n",
    "| Cidade         | Diferença ARPU (R$) | Clientes Impactados | Receita Estimada (R$) | Cohen's d |\n",
    "|----------------|---------------------|----------------------|------------------------|---------|\n",
    "| **Belo Horizonte**  | 10,69                  | 16.282                | –70.175                | 0.10 |\n",
    "| **Recife**          | 11,01                  | 15.816                | –63.106                | 0.45 |\n",
    "| **Porto Alegre**    | 11,44                  | 12.650                | –45.034                | 0.30 |\n",
    "\n",
    "---\n",
    "\n",
    "##### Conclusão\n",
    "\n",
    "Embora métricas estatísticas como **Cohen’s d** tenham apontado efeito positivo em diversas regiões, a **viabilidade financeira real** varia significativamente entre cidades.\n",
    "\n",
    "Cidades como **São Paulo e Rio de Janeiro** se destacam e podem receber maior investimento em campanhas similares. Já cidades com retorno negativo exigem **segmentações mais refinadas** ou **redução no valor do cupom**."
   ]
  },
  {
   "cell_type": "markdown",
   "id": "adc833c7",
   "metadata": {},
   "source": [
    "##### Engajamento"
   ]
  },
  {
   "cell_type": "code",
   "execution_count": 82,
   "id": "31457c3d",
   "metadata": {},
   "outputs": [],
   "source": [
    "results_diff_percentage_engagement = []\n",
    "\n",
    "for city in cities:\n",
    "    percent_customers_with_2_orders_test = df_evaluation_metrics_by_address_city.filter(pl.col(\"is_target\") == \"target\",\n",
    "                                                                                                     pl.col(\"delivery_address_city\") == city)[\"percent_customers_with_2_orders\"].item()\n",
    "    percent_customers_with_2_orders_control = df_evaluation_metrics_by_address_city.filter(pl.col(\"is_target\") == \"control\",\n",
    "                                                                                                     pl.col(\"delivery_address_city\") == city)[\"percent_customers_with_2_orders\"].item()\n",
    "    percent_customers_with_3_orders_test = df_evaluation_metrics_by_address_city.filter(pl.col(\"is_target\") == \"target\",\n",
    "                                                                                                     pl.col(\"delivery_address_city\") == city)[\"percent_customers_with_3_orders\"].item()\n",
    "    percent_customers_with_3_orders_control = df_evaluation_metrics_by_address_city.filter(pl.col(\"is_target\") == \"control\",\n",
    "                                                                                                     pl.col(\"delivery_address_city\") == city)[\"percent_customers_with_3_orders\"].item()\n",
    "    percent_customers_with_3_plus_orders_test = df_evaluation_metrics_by_address_city.filter(pl.col(\"is_target\") == \"target\",\n",
    "                                                                                                     pl.col(\"delivery_address_city\") == city)[\"percent_customers_with_3_plus_orders\"].item()\n",
    "    percent_customers_with_3_plus_orders_control = df_evaluation_metrics_by_address_city.filter(pl.col(\"is_target\") == \"control\",\n",
    "                                                                                                     pl.col(\"delivery_address_city\") == city)[\"percent_customers_with_3_plus_orders\"].item()\n",
    "    \n",
    "    diff_percent_2_orders = (percent_customers_with_2_orders_test / percent_customers_with_2_orders_control) - 1\n",
    "    diff_percent_3_orders = (percent_customers_with_3_orders_test / percent_customers_with_3_orders_control) - 1\n",
    "    diff_percent_3_plus_orders = (percent_customers_with_3_plus_orders_test / percent_customers_with_3_plus_orders_control) - 1\n",
    "\n",
    "    results_diff_percentage_engagement.append({\n",
    "        \"city\": city,\n",
    "        \"diff_percent_2_orders\": round(diff_percent_2_orders,3),\n",
    "        \"diff_percent_3_orders\": round(diff_percent_3_orders,3),\n",
    "        \"diff_percent_3_plus_orders\": round(diff_percent_3_plus_orders,3)\n",
    "    })\n",
    "\n",
    "df_diff_percentage_engagement_by_city = pl.DataFrame(results_diff_percentage_engagement)"
   ]
  },
  {
   "cell_type": "code",
   "execution_count": 83,
   "id": "77076fdc",
   "metadata": {},
   "outputs": [
    {
     "data": {
      "text/html": [
       "<div><style>\n",
       ".dataframe > thead > tr,\n",
       ".dataframe > tbody > tr {\n",
       "  text-align: right;\n",
       "  white-space: pre-wrap;\n",
       "}\n",
       "</style>\n",
       "<small>shape: (9, 4)</small><table border=\"1\" class=\"dataframe\"><thead><tr><th>city</th><th>diff_percent_2_orders</th><th>diff_percent_3_orders</th><th>diff_percent_3_plus_orders</th></tr><tr><td>str</td><td>f64</td><td>f64</td><td>f64</td></tr></thead><tbody><tr><td>&quot;Sao Paulo&quot;</td><td>0.21</td><td>0.198</td><td>0.201</td></tr><tr><td>&quot;Rio De Janeiro&quot;</td><td>0.221</td><td>0.22</td><td>0.17</td></tr><tr><td>&quot;Belo Horizonte&quot;</td><td>0.272</td><td>0.183</td><td>0.224</td></tr><tr><td>&quot;Curitiba&quot;</td><td>0.225</td><td>0.241</td><td>0.203</td></tr><tr><td>&quot;Recife&quot;</td><td>0.204</td><td>0.25</td><td>0.135</td></tr><tr><td>&quot;Salvador&quot;</td><td>0.222</td><td>0.239</td><td>0.192</td></tr><tr><td>&quot;Brasilia&quot;</td><td>0.182</td><td>0.141</td><td>0.232</td></tr><tr><td>&quot;Fortaleza&quot;</td><td>0.18</td><td>0.126</td><td>0.167</td></tr><tr><td>&quot;Porto Alegre&quot;</td><td>0.131</td><td>0.286</td><td>0.132</td></tr></tbody></table></div>"
      ],
      "text/plain": [
       "shape: (9, 4)\n",
       "┌────────────────┬───────────────────────┬───────────────────────┬────────────────────────────┐\n",
       "│ city           ┆ diff_percent_2_orders ┆ diff_percent_3_orders ┆ diff_percent_3_plus_orders │\n",
       "│ ---            ┆ ---                   ┆ ---                   ┆ ---                        │\n",
       "│ str            ┆ f64                   ┆ f64                   ┆ f64                        │\n",
       "╞════════════════╪═══════════════════════╪═══════════════════════╪════════════════════════════╡\n",
       "│ Sao Paulo      ┆ 0.21                  ┆ 0.198                 ┆ 0.201                      │\n",
       "│ Rio De Janeiro ┆ 0.221                 ┆ 0.22                  ┆ 0.17                       │\n",
       "│ Belo Horizonte ┆ 0.272                 ┆ 0.183                 ┆ 0.224                      │\n",
       "│ Curitiba       ┆ 0.225                 ┆ 0.241                 ┆ 0.203                      │\n",
       "│ Recife         ┆ 0.204                 ┆ 0.25                  ┆ 0.135                      │\n",
       "│ Salvador       ┆ 0.222                 ┆ 0.239                 ┆ 0.192                      │\n",
       "│ Brasilia       ┆ 0.182                 ┆ 0.141                 ┆ 0.232                      │\n",
       "│ Fortaleza      ┆ 0.18                  ┆ 0.126                 ┆ 0.167                      │\n",
       "│ Porto Alegre   ┆ 0.131                 ┆ 0.286                 ┆ 0.132                      │\n",
       "└────────────────┴───────────────────────┴───────────────────────┴────────────────────────────┘"
      ]
     },
     "execution_count": 83,
     "metadata": {},
     "output_type": "execute_result"
    }
   ],
   "source": [
    "df_diff_percentage_engagement_by_city"
   ]
  },
  {
   "cell_type": "markdown",
   "id": "6ff2703f",
   "metadata": {},
   "source": [
    "### Análise de engajamento por Cidade\n",
    "\n",
    "Além do aumento no ARPU, avaliamos a **diferença percentual no engajamento** entre os grupos *teste* e *controle*, considerando o percentual de clientes que realizaram:\n",
    "\n",
    "- **2 pedidos**\n",
    "- **3 pedidos**\n",
    "- **Mais de 3 pedidos**\n",
    "\n",
    "#### Diferença de engajamento (grupo teste - controle)\n",
    "\n",
    "| Cidade           | 2 pedidos (%) | 3 pedidos (%) | +3 pedidos (%) |\n",
    "|------------------|---------------|----------------|----------------|\n",
    "| **Belo Horizonte** | **27,2**       | 18,3            | **22,4**        |\n",
    "| **Recife**         | 20,4           | **25,0**        | 13,5            |\n",
    "| **Porto Alegre**   | 13,1           | **28,6**        | 13,2            |\n",
    "| **Curitiba**       | 22,5           | **24,1**        | 20,3            |\n",
    "| **Salvador**       | 22,2           | **23,9**        | 19,2            |\n",
    "| **Rio de Janeiro** | **22,1**       | 22,0            | 17,0            |\n",
    "| **São Paulo**      | 21,0           | 19,8            | 20,1            |\n",
    "| **Brasília**       | 18,2           | 14,1            | **23,2**        |\n",
    "| **Fortaleza**      | 18,0           | 12,6            | 16,7            |\n",
    "\n",
    "---\n",
    "\n",
    "### Insights\n",
    "\n",
    "- **Porto Alegre**, **Curitiba**, **Recife**, **Salvador** e **Belo Horizonte** mostraram **forte engajamento em 3+ pedidos**, mesmo que o retorno financeiro tenha sido menor — indicando **potencial de retenção** que pode compensar o custo no médio/longo prazo.\n",
    "- **Fortaleza** teve um dos menores impactos em engajamento, apesar do alto Cohen’s d e retorno financeiro modesto — sugerindo que o efeito pode estar concentrado em poucos usuários ou em valor de pedidos.\n",
    "- **Brasília** teve um dos maiores engajamentos no grupo de 4+ pedidos, o que reforça o impacto positivo da campanha nesse público.\n",
    "\n",
    "---\n",
    "\n",
    "### Conclusão\n",
    "\n",
    "> Análises de engajamento por cidade mostram que a campanha de cupons teve **efeitos comportamentais positivos** em diversas regiões, mesmo onde o impacto financeiro foi menor. Esses dados ajudam a guiar decisões mais estratégicas: **onde insistir**, **onde ajustar** e **onde inovar**.\n",
    "\n"
   ]
  },
  {
   "cell_type": "markdown",
   "id": "395dd40e",
   "metadata": {},
   "source": [
    "#### 2) Por range de preço"
   ]
  },
  {
   "cell_type": "code",
   "execution_count": null,
   "id": "f38493b5",
   "metadata": {},
   "outputs": [],
   "source": [
    "df_evaluation_metrics_by_price_range = calculate_evaluation_metrics(df_sales, [\"price_range\",\"merchant_city\"])\n",
    "df_customers_with_2_orders_by_price_range = calculate_engagement_custormers_two_orders(df_sales, \"price_range\")\n",
    "df_customers_with_3_orders_by_price_range = calculate_engagement_custormers_three_orders(df_sales, \"price_range\")\n",
    "df_customers_with_3_plus_orders_by_price_range = calculate_engagement_custormers_three_plus_orders(df_sales, \"price_range\")"
   ]
  },
  {
   "cell_type": "code",
   "execution_count": 115,
   "id": "1ef33ea6",
   "metadata": {},
   "outputs": [
    {
     "ename": "ColumnNotFoundError",
     "evalue": "price_range",
     "output_type": "error",
     "traceback": [
      "\u001b[31m---------------------------------------------------------------------------\u001b[39m",
      "\u001b[31mColumnNotFoundError\u001b[39m                       Traceback (most recent call last)",
      "\u001b[36mCell\u001b[39m\u001b[36m \u001b[39m\u001b[32mIn[115]\u001b[39m\u001b[32m, line 1\u001b[39m\n\u001b[32m----> \u001b[39m\u001b[32m1\u001b[39m teste = \u001b[43mcalculate_evaluation_metrics\u001b[49m\u001b[43m(\u001b[49m\u001b[43mdf_sales\u001b[49m\u001b[43m,\u001b[49m\u001b[43m \u001b[49m\u001b[43m[\u001b[49m\u001b[33;43m\"\u001b[39;49m\u001b[33;43mprice_range\u001b[39;49m\u001b[33;43m\"\u001b[39;49m\u001b[43m]\u001b[49m\u001b[43m)\u001b[49m\n",
      "\u001b[36mFile \u001b[39m\u001b[32mD:\\__case_ifood\\notebooks\\utils\\utils.py:117\u001b[39m, in \u001b[36mcalculate_evaluation_metrics\u001b[39m\u001b[34m(data_frame, columns_groupby)\u001b[39m\n\u001b[32m    110\u001b[39m \u001b[38;5;28;01mdef\u001b[39;00m\u001b[38;5;250m \u001b[39m\u001b[34mcalculate_evaluation_metrics\u001b[39m(data_frame, columns_groupby):\n\u001b[32m    111\u001b[39m     DataFrame = \u001b[43mdata_frame\u001b[49m\u001b[43m.\u001b[49m\u001b[43mgroup_by\u001b[49m\u001b[43m(\u001b[49m\u001b[43m[\u001b[49m\u001b[33;43m\"\u001b[39;49m\u001b[33;43mis_target\u001b[39;49m\u001b[33;43m\"\u001b[39;49m\u001b[43m,\u001b[49m\u001b[43mcolumns_groupby\u001b[49m\u001b[43m]\u001b[49m\u001b[43m)\u001b[49m\u001b[43m.\u001b[49m\u001b[43magg\u001b[49m\u001b[43m(\u001b[49m\u001b[43m[\u001b[49m\n\u001b[32m    112\u001b[39m \u001b[43m    \u001b[49m\u001b[43mpl\u001b[49m\u001b[43m.\u001b[49m\u001b[43mcol\u001b[49m\u001b[43m(\u001b[49m\u001b[33;43m\"\u001b[39;49m\u001b[33;43morder_id\u001b[39;49m\u001b[33;43m\"\u001b[39;49m\u001b[43m)\u001b[49m\u001b[43m.\u001b[49m\u001b[43mn_unique\u001b[49m\u001b[43m(\u001b[49m\u001b[43m)\u001b[49m\u001b[43m.\u001b[49m\u001b[43malias\u001b[49m\u001b[43m(\u001b[49m\u001b[33;43m\"\u001b[39;49m\u001b[33;43morders\u001b[39;49m\u001b[33;43m\"\u001b[39;49m\u001b[43m)\u001b[49m\u001b[43m,\u001b[49m\n\u001b[32m    113\u001b[39m \u001b[43m    \u001b[49m\u001b[43mpl\u001b[49m\u001b[43m.\u001b[49m\u001b[43mcol\u001b[49m\u001b[43m(\u001b[49m\u001b[33;43m\"\u001b[39;49m\u001b[33;43mcustomer_id\u001b[39;49m\u001b[33;43m\"\u001b[39;49m\u001b[43m)\u001b[49m\u001b[43m.\u001b[49m\u001b[43mn_unique\u001b[49m\u001b[43m(\u001b[49m\u001b[43m)\u001b[49m\u001b[43m.\u001b[49m\u001b[43malias\u001b[49m\u001b[43m(\u001b[49m\u001b[33;43m\"\u001b[39;49m\u001b[33;43munique_customers\u001b[39;49m\u001b[33;43m\"\u001b[39;49m\u001b[43m)\u001b[49m\u001b[43m,\u001b[49m\n\u001b[32m    114\u001b[39m \u001b[43m    \u001b[49m\u001b[43mpl\u001b[49m\u001b[43m.\u001b[49m\u001b[43mcol\u001b[49m\u001b[43m(\u001b[49m\u001b[33;43m\"\u001b[39;49m\u001b[33;43mamount\u001b[39;49m\u001b[33;43m\"\u001b[39;49m\u001b[43m)\u001b[49m\u001b[43m.\u001b[49m\u001b[43msum\u001b[49m\u001b[43m(\u001b[49m\u001b[43m)\u001b[49m\u001b[43m.\u001b[49m\u001b[43malias\u001b[49m\u001b[43m(\u001b[49m\u001b[33;43m\"\u001b[39;49m\u001b[33;43mrevenue\u001b[39;49m\u001b[33;43m\"\u001b[39;49m\u001b[43m)\u001b[49m\u001b[43m,\u001b[49m\n\u001b[32m    115\u001b[39m \u001b[43m    \u001b[49m\u001b[43m(\u001b[49m\u001b[43mpl\u001b[49m\u001b[43m.\u001b[49m\u001b[43mcol\u001b[49m\u001b[43m(\u001b[49m\u001b[33;43m\"\u001b[39;49m\u001b[33;43mamount\u001b[39;49m\u001b[33;43m\"\u001b[39;49m\u001b[43m)\u001b[49m\u001b[43m.\u001b[49m\u001b[43msum\u001b[49m\u001b[43m(\u001b[49m\u001b[43m)\u001b[49m\u001b[43m \u001b[49m\u001b[43m/\u001b[49m\u001b[43m \u001b[49m\u001b[43mpl\u001b[49m\u001b[43m.\u001b[49m\u001b[43mcol\u001b[49m\u001b[43m(\u001b[49m\u001b[33;43m\"\u001b[39;49m\u001b[33;43morder_id\u001b[39;49m\u001b[33;43m\"\u001b[39;49m\u001b[43m)\u001b[49m\u001b[43m.\u001b[49m\u001b[43mn_unique\u001b[49m\u001b[43m(\u001b[49m\u001b[43m)\u001b[49m\u001b[43m)\u001b[49m\u001b[43m.\u001b[49m\u001b[43mround\u001b[49m\u001b[43m(\u001b[49m\u001b[32;43m2\u001b[39;49m\u001b[43m)\u001b[49m\u001b[43m.\u001b[49m\u001b[43malias\u001b[49m\u001b[43m(\u001b[49m\u001b[33;43m\"\u001b[39;49m\u001b[33;43mTKM\u001b[39;49m\u001b[33;43m\"\u001b[39;49m\u001b[43m)\u001b[49m\u001b[43m,\u001b[49m\n\u001b[32m    116\u001b[39m \u001b[43m    \u001b[49m\u001b[43m(\u001b[49m\u001b[43mpl\u001b[49m\u001b[43m.\u001b[49m\u001b[43mcol\u001b[49m\u001b[43m(\u001b[49m\u001b[33;43m\"\u001b[39;49m\u001b[33;43mamount\u001b[39;49m\u001b[33;43m\"\u001b[39;49m\u001b[43m)\u001b[49m\u001b[43m.\u001b[49m\u001b[43msum\u001b[49m\u001b[43m(\u001b[49m\u001b[43m)\u001b[49m\u001b[43m \u001b[49m\u001b[43m/\u001b[49m\u001b[43m \u001b[49m\u001b[43mpl\u001b[49m\u001b[43m.\u001b[49m\u001b[43mcol\u001b[49m\u001b[43m(\u001b[49m\u001b[33;43m\"\u001b[39;49m\u001b[33;43mcustomer_id\u001b[39;49m\u001b[33;43m\"\u001b[39;49m\u001b[43m)\u001b[49m\u001b[43m.\u001b[49m\u001b[43mn_unique\u001b[49m\u001b[43m(\u001b[49m\u001b[43m)\u001b[49m\u001b[43m)\u001b[49m\u001b[43m.\u001b[49m\u001b[43mround\u001b[49m\u001b[43m(\u001b[49m\u001b[32;43m2\u001b[39;49m\u001b[43m)\u001b[49m\u001b[43m.\u001b[49m\u001b[43malias\u001b[49m\u001b[43m(\u001b[49m\u001b[33;43m\"\u001b[39;49m\u001b[33;43mARPU\u001b[39;49m\u001b[33;43m\"\u001b[39;49m\u001b[43m)\u001b[49m\n\u001b[32m--> \u001b[39m\u001b[32m117\u001b[39m \u001b[43m]\u001b[49m\u001b[43m)\u001b[49m\u001b[43m.\u001b[49m\u001b[43mwith_columns\u001b[49m\u001b[43m(\u001b[49m\u001b[43m[\u001b[49m\n\u001b[32m    118\u001b[39m \u001b[43m    \u001b[49m\u001b[43mpl\u001b[49m\u001b[43m.\u001b[49m\u001b[43mcol\u001b[49m\u001b[43m(\u001b[49m\u001b[33;43m\"\u001b[39;49m\u001b[33;43mrevenue\u001b[39;49m\u001b[33;43m\"\u001b[39;49m\u001b[43m)\u001b[49m\u001b[43m.\u001b[49m\u001b[43msum\u001b[49m\u001b[43m(\u001b[49m\u001b[43m)\u001b[49m\u001b[43m.\u001b[49m\u001b[43mover\u001b[49m\u001b[43m(\u001b[49m\u001b[43mcolumns_groupby\u001b[49m\u001b[43m)\u001b[49m\u001b[43m.\u001b[49m\u001b[43malias\u001b[49m\u001b[43m(\u001b[49m\u001b[33;43m\"\u001b[39;49m\u001b[33;43mtotal_revenue\u001b[39;49m\u001b[33;43m\"\u001b[39;49m\u001b[43m)\u001b[49m\u001b[43m,\u001b[49m\n\u001b[32m    119\u001b[39m \u001b[43m    \u001b[49m\u001b[43mpl\u001b[49m\u001b[43m.\u001b[49m\u001b[43mcol\u001b[49m\u001b[43m(\u001b[49m\u001b[33;43m\"\u001b[39;49m\u001b[33;43morders\u001b[39;49m\u001b[33;43m\"\u001b[39;49m\u001b[43m)\u001b[49m\u001b[43m.\u001b[49m\u001b[43msum\u001b[49m\u001b[43m(\u001b[49m\u001b[43m)\u001b[49m\u001b[43m.\u001b[49m\u001b[43mover\u001b[49m\u001b[43m(\u001b[49m\u001b[43mcolumns_groupby\u001b[49m\u001b[43m)\u001b[49m\u001b[43m.\u001b[49m\u001b[43malias\u001b[49m\u001b[43m(\u001b[49m\u001b[33;43m\"\u001b[39;49m\u001b[33;43mtotal_orders\u001b[39;49m\u001b[33;43m\"\u001b[39;49m\u001b[43m)\u001b[49m\u001b[43m,\u001b[49m\n\u001b[32m    120\u001b[39m \u001b[43m    \u001b[49m\u001b[43mpl\u001b[49m\u001b[43m.\u001b[49m\u001b[43mcol\u001b[49m\u001b[43m(\u001b[49m\u001b[33;43m\"\u001b[39;49m\u001b[33;43munique_customers\u001b[39;49m\u001b[33;43m\"\u001b[39;49m\u001b[43m)\u001b[49m\u001b[43m.\u001b[49m\u001b[43msum\u001b[49m\u001b[43m(\u001b[49m\u001b[43m)\u001b[49m\u001b[43m.\u001b[49m\u001b[43mover\u001b[49m\u001b[43m(\u001b[49m\u001b[43mcolumns_groupby\u001b[49m\u001b[43m)\u001b[49m\u001b[43m.\u001b[49m\u001b[43malias\u001b[49m\u001b[43m(\u001b[49m\u001b[33;43m\"\u001b[39;49m\u001b[33;43mtotal_customers\u001b[39;49m\u001b[33;43m\"\u001b[39;49m\u001b[43m)\u001b[49m\n\u001b[32m    121\u001b[39m \u001b[43m]\u001b[49m\u001b[43m)\u001b[49m.sort(\u001b[33m\"\u001b[39m\u001b[33mis_target\u001b[39m\u001b[33m\"\u001b[39m, descending=\u001b[38;5;28;01mTrue\u001b[39;00m)\n\u001b[32m    123\u001b[39m     \u001b[38;5;28;01mreturn\u001b[39;00m DataFrame\n",
      "\u001b[36mFile \u001b[39m\u001b[32md:\\Python\\Lib\\site-packages\\polars\\dataframe\\frame.py:10018\u001b[39m, in \u001b[36mDataFrame.with_columns\u001b[39m\u001b[34m(self, *exprs, **named_exprs)\u001b[39m\n\u001b[32m   9872\u001b[39m \u001b[38;5;250m\u001b[39m\u001b[33;03m\"\"\"\u001b[39;00m\n\u001b[32m   9873\u001b[39m \u001b[33;03mAdd columns to this DataFrame.\u001b[39;00m\n\u001b[32m   9874\u001b[39m \n\u001b[32m   (...)\u001b[39m\u001b[32m  10011\u001b[39m \u001b[33;03m└─────┴──────┴─────────────┘\u001b[39;00m\n\u001b[32m  10012\u001b[39m \u001b[33;03m\"\"\"\u001b[39;00m\n\u001b[32m  10013\u001b[39m \u001b[38;5;28;01mfrom\u001b[39;00m\u001b[38;5;250m \u001b[39m\u001b[34;01mpolars\u001b[39;00m\u001b[34;01m.\u001b[39;00m\u001b[34;01mlazyframe\u001b[39;00m\u001b[34;01m.\u001b[39;00m\u001b[34;01mopt_flags\u001b[39;00m\u001b[38;5;250m \u001b[39m\u001b[38;5;28;01mimport\u001b[39;00m QueryOptFlags\n\u001b[32m  10015\u001b[39m \u001b[38;5;28;01mreturn\u001b[39;00m (\n\u001b[32m  10016\u001b[39m     \u001b[38;5;28;43mself\u001b[39;49m\u001b[43m.\u001b[49m\u001b[43mlazy\u001b[49m\u001b[43m(\u001b[49m\u001b[43m)\u001b[49m\n\u001b[32m  10017\u001b[39m \u001b[43m    \u001b[49m\u001b[43m.\u001b[49m\u001b[43mwith_columns\u001b[49m\u001b[43m(\u001b[49m\u001b[43m*\u001b[49m\u001b[43mexprs\u001b[49m\u001b[43m,\u001b[49m\u001b[43m \u001b[49m\u001b[43m*\u001b[49m\u001b[43m*\u001b[49m\u001b[43mnamed_exprs\u001b[49m\u001b[43m)\u001b[49m\n\u001b[32m> \u001b[39m\u001b[32m10018\u001b[39m \u001b[43m    \u001b[49m\u001b[43m.\u001b[49m\u001b[43mcollect\u001b[49m\u001b[43m(\u001b[49m\u001b[43moptimizations\u001b[49m\u001b[43m=\u001b[49m\u001b[43mQueryOptFlags\u001b[49m\u001b[43m.\u001b[49m\u001b[43m_eager\u001b[49m\u001b[43m(\u001b[49m\u001b[43m)\u001b[49m\u001b[43m)\u001b[49m\n\u001b[32m  10019\u001b[39m )\n",
      "\u001b[36mFile \u001b[39m\u001b[32md:\\Python\\Lib\\site-packages\\polars\\_utils\\deprecation.py:97\u001b[39m, in \u001b[36mdeprecate_streaming_parameter.<locals>.decorate.<locals>.wrapper\u001b[39m\u001b[34m(*args, **kwargs)\u001b[39m\n\u001b[32m     93\u001b[39m         kwargs[\u001b[33m\"\u001b[39m\u001b[33mengine\u001b[39m\u001b[33m\"\u001b[39m] = \u001b[33m\"\u001b[39m\u001b[33min-memory\u001b[39m\u001b[33m\"\u001b[39m\n\u001b[32m     95\u001b[39m     \u001b[38;5;28;01mdel\u001b[39;00m kwargs[\u001b[33m\"\u001b[39m\u001b[33mstreaming\u001b[39m\u001b[33m\"\u001b[39m]\n\u001b[32m---> \u001b[39m\u001b[32m97\u001b[39m \u001b[38;5;28;01mreturn\u001b[39;00m \u001b[43mfunction\u001b[49m\u001b[43m(\u001b[49m\u001b[43m*\u001b[49m\u001b[43margs\u001b[49m\u001b[43m,\u001b[49m\u001b[43m \u001b[49m\u001b[43m*\u001b[49m\u001b[43m*\u001b[49m\u001b[43mkwargs\u001b[49m\u001b[43m)\u001b[49m\n",
      "\u001b[36mFile \u001b[39m\u001b[32md:\\Python\\Lib\\site-packages\\polars\\lazyframe\\opt_flags.py:330\u001b[39m, in \u001b[36mforward_old_opt_flags.<locals>.decorate.<locals>.wrapper\u001b[39m\u001b[34m(*args, **kwargs)\u001b[39m\n\u001b[32m    327\u001b[39m         optflags = cb(optflags, kwargs.pop(key))  \u001b[38;5;66;03m# type: ignore[no-untyped-call,unused-ignore]\u001b[39;00m\n\u001b[32m    329\u001b[39m kwargs[\u001b[33m\"\u001b[39m\u001b[33moptimizations\u001b[39m\u001b[33m\"\u001b[39m] = optflags\n\u001b[32m--> \u001b[39m\u001b[32m330\u001b[39m \u001b[38;5;28;01mreturn\u001b[39;00m \u001b[43mfunction\u001b[49m\u001b[43m(\u001b[49m\u001b[43m*\u001b[49m\u001b[43margs\u001b[49m\u001b[43m,\u001b[49m\u001b[43m \u001b[49m\u001b[43m*\u001b[49m\u001b[43m*\u001b[49m\u001b[43mkwargs\u001b[49m\u001b[43m)\u001b[49m\n",
      "\u001b[36mFile \u001b[39m\u001b[32md:\\Python\\Lib\\site-packages\\polars\\lazyframe\\frame.py:2332\u001b[39m, in \u001b[36mLazyFrame.collect\u001b[39m\u001b[34m(self, type_coercion, predicate_pushdown, projection_pushdown, simplify_expression, slice_pushdown, comm_subplan_elim, comm_subexpr_elim, cluster_with_columns, collapse_joins, no_optimization, engine, background, optimizations, **_kwargs)\u001b[39m\n\u001b[32m   2330\u001b[39m \u001b[38;5;66;03m# Only for testing purposes\u001b[39;00m\n\u001b[32m   2331\u001b[39m callback = _kwargs.get(\u001b[33m\"\u001b[39m\u001b[33mpost_opt_callback\u001b[39m\u001b[33m\"\u001b[39m, callback)\n\u001b[32m-> \u001b[39m\u001b[32m2332\u001b[39m \u001b[38;5;28;01mreturn\u001b[39;00m wrap_df(\u001b[43mldf\u001b[49m\u001b[43m.\u001b[49m\u001b[43mcollect\u001b[49m\u001b[43m(\u001b[49m\u001b[43mengine\u001b[49m\u001b[43m,\u001b[49m\u001b[43m \u001b[49m\u001b[43mcallback\u001b[49m\u001b[43m)\u001b[49m)\n",
      "\u001b[31mColumnNotFoundError\u001b[39m: price_range"
     ]
    }
   ],
   "source": [
    "teste = calculate_evaluation_metrics(df_sales, [\"price_range\"])"
   ]
  },
  {
   "cell_type": "code",
   "execution_count": 111,
   "id": "bd0fc749",
   "metadata": {},
   "outputs": [
    {
     "name": "stdout",
     "output_type": "stream",
     "text": [
      "shape: (5, 2)\n",
      "┌─────────────┬──────────────┐\n",
      "│ price_range ┆ total_amount │\n",
      "│ ---         ┆ ---          │\n",
      "│ i64         ┆ f64          │\n",
      "╞═════════════╪══════════════╡\n",
      "│ 3           ┆ 4.4879e7     │\n",
      "│ 4           ┆ 2.3094e7     │\n",
      "│ 2           ┆ 1.8301e7     │\n",
      "│ 1           ┆ 1.6939e7     │\n",
      "│ 5           ┆ 1.2948e7     │\n",
      "└─────────────┴──────────────┘\n"
     ]
    }
   ],
   "source": [
    "print(\n",
    "    df_evaluation_metrics_by_price_range.group_by(\"price_range\").agg([\n",
    "    pl.col(\"revenue\").sum().alias(\"total_amount\")\n",
    "]).sort(pl.col(\"total_amount\"), descending=True)\n",
    ")\n",
    "\n"
   ]
  }
 ],
 "metadata": {
  "kernelspec": {
   "display_name": "Python 3",
   "language": "python",
   "name": "python3"
  },
  "language_info": {
   "codemirror_mode": {
    "name": "ipython",
    "version": 3
   },
   "file_extension": ".py",
   "mimetype": "text/x-python",
   "name": "python",
   "nbconvert_exporter": "python",
   "pygments_lexer": "ipython3",
   "version": "3.12.4"
  }
 },
 "nbformat": 4,
 "nbformat_minor": 5
}
