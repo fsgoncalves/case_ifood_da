{
 "cells": [
  {
   "cell_type": "markdown",
   "id": "1f77f568",
   "metadata": {},
   "source": [
    "#### Importando bibliotecas necessárias"
   ]
  },
  {
   "cell_type": "code",
   "execution_count": 4,
   "id": "09ac2273",
   "metadata": {},
   "outputs": [],
   "source": [
    "import sys\n",
    "import polars as pl\n",
    "import pandas as pd\n",
    "import os\n",
    "import gc\n",
    "import matplotlib.pyplot as plt\n",
    "import seaborn as sns\n",
    "import math\n",
    "\n",
    "sys.path.append('D:\\\\__case_ifood\\\\notebooks\\\\utils') # Defina aqui a pasta\n"
   ]
  },
  {
   "cell_type": "code",
   "execution_count": 10,
   "id": "3f81715c",
   "metadata": {},
   "outputs": [],
   "source": [
    "from utils import get_sales_data"
   ]
  },
  {
   "cell_type": "markdown",
   "id": "c52e5208",
   "metadata": {},
   "source": [
    "### A) Mensurando o sucesso da campanha\n",
    "\n",
    "##### Serão consideradas as seguintes métricas de avaliação do Teste A/B\n",
    "\n",
    "##### 1. ARPU (Average Revenue per User)\n",
    "\n",
    "**Definição**:  \n",
    "Mede a média de receita gerada por usuário em um determinado período. Essa métrica permite avaliar o impacto da variação testada na monetização dos usuários.\n",
    "\n",
    "**Fórmula**:  \n",
    "```\n",
    "ARPU = Receita Total / Número de Usuários\n",
    "```\n",
    "\n",
    "**Objetivo no teste A/B**:  \n",
    "Verificar se a variação testada resulta em um aumento significativo na receita média por usuário em comparação ao grupo de controle.\n",
    "\n",
    "---\n",
    "\n",
    "##### 2. Engajamento (Recompra)\n",
    "\n",
    "**Definição**:  \n",
    "Mede o percentual de usuários que realizaram pelo menos uma nova compra após a primeira interação. Essa métrica reflete o nível de retorno e fidelização dos clientes.\n",
    "\n",
    "**Fórmula**:  \n",
    "```\n",
    "Engajamento = (Usuários com Recompra / Total de Usuários) × 100\n",
    "```\n",
    "\n",
    "**Objetivo no teste A/B**:  \n",
    "Avaliar se a variação testada aumenta a taxa de clientes que retornam e realizam novas compras em relação ao grupo de controle."
   ]
  },
  {
   "cell_type": "markdown",
   "id": "18a7f759",
   "metadata": {},
   "source": [
    "#### Métrica ARPU"
   ]
  },
  {
   "cell_type": "code",
   "execution_count": 27,
   "id": "271dc1bd",
   "metadata": {},
   "outputs": [],
   "source": [
    "# Importando o dataset de vendas\n",
    "df_sales = get_sales_data()"
   ]
  },
  {
   "cell_type": "code",
   "execution_count": 28,
   "id": "29932019",
   "metadata": {},
   "outputs": [],
   "source": [
    "# Create DF to evaluation metrics\n",
    "\n",
    "df_evaluation_metrics = df_sales.group_by(\"is_target\").agg([\n",
    "    pl.col(\"order_id\").n_unique().alias(\"orders\"),\n",
    "    pl.col(\"customer_id\").n_unique().alias(\"unique_customers\"),\n",
    "    pl.col(\"amount\").sum().alias(\"revenue\"),\n",
    "    (pl.col(\"amount\").sum() / pl.col(\"order_id\").n_unique()).round(2).alias(\"TKM\"),\n",
    "    (pl.col(\"amount\").sum() / pl.col(\"customer_id\").n_unique()).round(2).alias(\"ARPU\")\n",
    "]).with_columns([\n",
    "    pl.col(\"revenue\").sum().alias(\"total_revenue\"),\n",
    "    pl.col(\"orders\").sum().alias(\"total_orders\"),\n",
    "    pl.col(\"unique_customers\").sum().alias(\"total_customers\")\n",
    "]).sort(\"is_target\", descending=True)"
   ]
  },
  {
   "cell_type": "code",
   "execution_count": 29,
   "id": "3b16beb1",
   "metadata": {},
   "outputs": [],
   "source": [
    "# repurchase customers\n",
    "\n",
    "df_customers_with_2_orders = df_sales.group_by(\"is_target\",\"customer_id\").agg([\n",
    "    pl.col(\"order_id\").count().alias(\"orders\")\n",
    "]).filter(pl.col(\"orders\") == 2).group_by(\"is_target\").agg([\n",
    "    pl.col(\"customer_id\").n_unique().alias(\"customers_with_2_orders\") # clientes_com_2_pedido\n",
    "])\n",
    "\n",
    "df_customers_with_3_orders = df_sales.group_by(\"is_target\",\"customer_id\").agg([\n",
    "    pl.col(\"order_id\").count().alias(\"orders\")\n",
    "]).filter(pl.col(\"orders\") == 3).group_by(\"is_target\").agg([\n",
    "    pl.col(\"customer_id\").n_unique().alias(\"customers_with_3_orders\")\n",
    "])\n",
    "\n",
    "df_customers_with_3_plus_orders = df_sales.group_by(\"is_target\",\"customer_id\").agg([\n",
    "    pl.col(\"order_id\").count().alias(\"orders\")\n",
    "]).filter(pl.col(\"orders\") > 3).group_by(\"is_target\").agg([\n",
    "    pl.col(\"customer_id\").n_unique().alias(\"customers_with_3_plus_orders\")\n",
    "])"
   ]
  },
  {
   "cell_type": "code",
   "execution_count": 30,
   "id": "7201fc14",
   "metadata": {},
   "outputs": [],
   "source": [
    "# Join DFs\n",
    "\n",
    "df_evaluation_metrics = df_evaluation_metrics.join(\n",
    "    df_customers_with_2_orders,\n",
    "    on=\"is_target\",\n",
    "    how=\"left\"\n",
    ").with_columns([\n",
    "    (pl.col(\"customers_with_2_orders\") / pl.col(\"unique_customers\")).round(3).alias(\"percent_customers_with_2_orders\")\n",
    "]).join(\n",
    "    df_customers_with_3_orders,\n",
    "    on=\"is_target\",\n",
    "    how=\"left\"\n",
    ").with_columns([\n",
    "    (pl.col(\"customers_with_3_orders\") / pl.col(\"unique_customers\")).round(3).alias(\"percent_customers_with_3_orders\")\n",
    "]).join(\n",
    "    df_customers_with_3_plus_orders,\n",
    "    on=\"is_target\",\n",
    "    how=\"left\"\n",
    ").with_columns([\n",
    "    (pl.col(\"customers_with_3_plus_orders\") / pl.col(\"unique_customers\")).round(3).alias(\"percent_customers_with_3_plus_orders\")\n",
    "]\n",
    ")"
   ]
  },
  {
   "cell_type": "code",
   "execution_count": 31,
   "id": "63787ea4",
   "metadata": {},
   "outputs": [
    {
     "name": "stdout",
     "output_type": "stream",
     "text": [
      "17.56\n",
      "0.131\n"
     ]
    }
   ],
   "source": [
    "# Calculate difference between ARPU customers target and customers control\n",
    "\n",
    "diff_arpu = df_evaluation_metrics.filter(pl.col(\"is_target\") == \"target\")[\"ARPU\"].item() - df_evaluation_metrics.filter(pl.col(\"is_target\") == \"control\")[\"ARPU\"].item()\n",
    "print(round(diff_arpu,2))\n",
    "percent_diff_arpu = (df_evaluation_metrics.filter(pl.col(\"is_target\") == \"target\")[\"ARPU\"].item() - df_evaluation_metrics.filter(pl.col(\"is_target\") == \"control\")[\"ARPU\"].item()) / df_evaluation_metrics.filter(pl.col(\"is_target\") == \"control\")[\"ARPU\"].item()\n",
    "print(round(percent_diff_arpu,3))"
   ]
  },
  {
   "cell_type": "code",
   "execution_count": 32,
   "id": "9def656f",
   "metadata": {},
   "outputs": [
    {
     "name": "stdout",
     "output_type": "stream",
     "text": [
      "Cohen's d: 0.06354\n"
     ]
    }
   ],
   "source": [
    "# Calculating Cohen's d statistic for ARPU to measure effect size\n",
    "# Cohen's d is a measure of effect size that indicates the difference between two means in terms of standard deviations.\n",
    "# It is calculated as the difference between the means divided by the pooled standard deviation.\n",
    "\n",
    "arpu_target = df_evaluation_metrics.filter(pl.col(\"is_target\") == \"target\")[\"ARPU\"].item()\n",
    "arpu_control = df_evaluation_metrics.filter(pl.col(\"is_target\") == \"control\")[\"ARPU\"].item()\n",
    "\n",
    "df_std_arpu = df_sales.group_by(\"customer_id\",\"is_target\").agg([\n",
    "    pl.col(\"amount\").sum().alias(\"total_gasto\")\n",
    "]).group_by(\"is_target\").agg([\n",
    "    pl.col(\"total_gasto\").std().alias(\"std_arpu\")\n",
    "])\n",
    "std_target = df_std_arpu.filter(pl.col(\"is_target\") == \"target\")[\"std_arpu\"].item()\n",
    "std_control = df_std_arpu.filter(pl.col(\"is_target\") == \"control\")[\"std_arpu\"].item()\n",
    "\n",
    "cohen_d = round((arpu_target - arpu_control) / (math.sqrt(((std_target**2 + std_control**2) / 2))),5)\n",
    "\n",
    "print(f\"Cohen's d: {cohen_d}\")"
   ]
  },
  {
   "cell_type": "markdown",
   "id": "1511edb3",
   "metadata": {},
   "source": [
    "##### Resultado: ARPU (Average Revenue Per User)\n",
    "\n",
    "Para avaliar o impacto financeiro da campanha, utilizamos o índice **Cohen's d**, que mede o **tamanho do efeito** entre dois grupos. A interpretação do resultado é baseada na seguinte referência:\n",
    "\n",
    "###### Interpretação do Tamanho do Efeito (Cohen's d)\n",
    "\n",
    "- **Muito Pequeno** 0.0 a 0.19\n",
    "- **Pequeno**: 0.2 a 0.49  \n",
    "- **Médio**: 0.5 a 0.79  \n",
    "- **Grande**: 0.8 ou mais  \n",
    "\n",
    "---\n",
    "\n",
    "##### Conclusão\n",
    "\n",
    "O ARPU no grupo teste foi **R$ 17,55 maior**, representando um aumento de **13%** em relação ao grupo controle.\n",
    "\n",
    "Embora o tamanho do efeito estatístico seja **pequeno**, a diferença prática pode ser **financeiramente relevante**, especialmente se o custo médio do cupom for inferior ao ganho adicional por cliente.\n",
    "\n",
    "Essa análise sugere que a campanha **teve impacto positivo na receita média por usuário**, e sua viabilidade depende do custo-benefício entre o valor do cupom e o retorno incremental.\n"
   ]
  },
  {
   "cell_type": "markdown",
   "id": "93bfa346",
   "metadata": {},
   "source": [
    "#### Engajamento (Recompra)"
   ]
  },
  {
   "cell_type": "code",
   "execution_count": 47,
   "id": "e712c5f6",
   "metadata": {},
   "outputs": [
    {
     "name": "stdout",
     "output_type": "stream",
     "text": [
      "shape: (2, 4)\n",
      "┌───────────┬────────────────────────────┬────────────────────────────┬────────────────────────────┐\n",
      "│ is_target ┆ percent_customers_with_2_o ┆ percent_customers_with_3_o ┆ percent_customers_with_3_p │\n",
      "│ ---       ┆ rder…                      ┆ rder…                      ┆ lus_…                      │\n",
      "│ str       ┆ ---                        ┆ ---                        ┆ ---                        │\n",
      "│           ┆ f64                        ┆ f64                        ┆ f64                        │\n",
      "╞═══════════╪════════════════════════════╪════════════════════════════╪════════════════════════════╡\n",
      "│ target    ┆ 0.203                      ┆ 0.111                      ┆ 0.262                      │\n",
      "│ control   ┆ 0.167                      ┆ 0.091                      ┆ 0.218                      │\n",
      "└───────────┴────────────────────────────┴────────────────────────────┴────────────────────────────┘\n"
     ]
    },
    {
     "data": {
      "image/png": "[encoded data removed]",
      "text/plain": [
       "<Figure size 800x500 with 1 Axes>"
      ]
     },
     "metadata": {},
     "output_type": "display_data"
    }
   ],
   "source": [
    "print(\n",
    "    (\n",
    "    df_evaluation_metrics.select(\n",
    "        pl.col(\"is_target\"),\n",
    "        pl.col(\"percent_customers_with_2_orders\"),\n",
    "        pl.col(\"percent_customers_with_3_orders\"),\n",
    "        pl.col(\"percent_customers_with_3_plus_orders\")\n",
    "     )\n",
    "    )\n",
    ")\n",
    "\n",
    "\n",
    "# Dados de proporção por critério\n",
    "datas = {\n",
    "    \"Critério\": [\"2 pedidos\", \"3 pedidos\", \"3+ pedidos\"],\n",
    "    \"Grupo Teste (%)\": [20.3, 11.1, 26.2],\n",
    "    \"Grupo Controle (%)\": [16.7, 9.1, 21.8]\n",
    "}\n",
    "\n",
    "# Criar DataFrame\n",
    "df = pd.DataFrame(datas)\n",
    "\n",
    "# Reestruturar o DataFrame para formato longo (long format)\n",
    "df_melted = df.melt(id_vars=\"Critério\", \n",
    "                    var_name=\"Grupo\", \n",
    "                    value_name=\"Proporção (%)\")\n",
    "\n",
    "# Tamanho do gráfico\n",
    "plt.figure(figsize=(8, 5))\n",
    "\n",
    "# Criar gráfico de barras\n",
    "sns.barplot(data=df_melted, x=\"Critério\", y=\"Proporção (%)\", hue=\"Grupo\")\n",
    "\n",
    "# Personalizações\n",
    "plt.title(\"Proporção de Clientes com Múltiplos Pedidos\")\n",
    "plt.ylim(0, 70)\n",
    "plt.ylabel(\"Proporção (%)\")\n",
    "plt.xlabel(\"Nº de Pedidos (ou mais)\")\n",
    "plt.legend(title=\"Grupo\")\n",
    "plt.grid(axis=\"y\", linestyle=\"--\", alpha=0.6)\n",
    "plt.tight_layout()\n",
    "\n",
    "# Mostrar gráfico\n",
    "plt.show()"
   ]
  },
  {
   "cell_type": "code",
   "execution_count": 48,
   "id": "345ac6cb",
   "metadata": {},
   "outputs": [
    {
     "name": "stdout",
     "output_type": "stream",
     "text": [
      "Customers with 2 orders diff percentage: 0.216\n",
      "Customers with 3 orders diff percentage: 0.22\n",
      "Customers with 3 orders diff percentage: 0.202\n"
     ]
    }
   ],
   "source": [
    "percent_customers_with_2_orders_target = df_evaluation_metrics.filter(pl.col(\"is_target\") == \"target\")[\"percent_customers_with_2_orders\"].item()\n",
    "percent_customers_with_2_orders_control = df_evaluation_metrics.filter(pl.col(\"is_target\") == \"control\")[\"percent_customers_with_2_orders\"].item()\n",
    "two_orders = round((percent_customers_with_2_orders_target / percent_customers_with_2_orders_control) - 1,3)\n",
    "print(f\"Customers with 2 orders diff percentage: {two_orders}\")\n",
    "\n",
    "percent_customers_with_3_orders_target = df_evaluation_metrics.filter(pl.col(\"is_target\") == \"target\")[\"percent_customers_with_3_orders\"].item()\n",
    "percent_customers_with_3_orders_control = df_evaluation_metrics.filter(pl.col(\"is_target\") == \"control\")[\"percent_customers_with_3_orders\"].item()\n",
    "three_orders = round((percent_customers_with_3_orders_target / percent_customers_with_3_orders_control) - 1,3)\n",
    "print(f\"Customers with 3 orders diff percentage: {three_orders}\")\n",
    "\n",
    "percent_customers_with_3_plus_orders_target = df_evaluation_metrics.filter(pl.col(\"is_target\") == \"target\")[\"percent_customers_with_3_plus_orders\"].item()\n",
    "percent_customers_with_3_plus_orders_control = df_evaluation_metrics.filter(pl.col(\"is_target\") == \"control\")[\"percent_customers_with_3_plus_orders\"].item()\n",
    "three_plus_orders = round((percent_customers_with_3_plus_orders_target / percent_customers_with_3_plus_orders_control) - 1,3)\n",
    "print(f\"Customers with 3 orders diff percentage: {three_plus_orders}\")"
   ]
  },
  {
   "cell_type": "markdown",
   "id": "ac05d6a2",
   "metadata": {},
   "source": [
    "#### Resultado Engajamento\n",
    "\n",
    "A campanha de cupom resultou em um **aumento consistente de aproximadamente 20%** na proporção de clientes que realizaram múltiplos pedidos, independentemente do critério considerado:\n",
    "\n",
    "- **2 pedidos**: 20,3% (teste) vs 16,3% (controle)  \n",
    "- **3 pedidos**: 11,1% (teste) vs 9,1% (controle)  \n",
    "- **3+ pedidos**: 26,2% (teste) vs 21,8% (controle)  \n",
    "\n",
    "Essa consistência indica que o cupom não apenas incentivou a **primeira recompra**, mas também gerou **maior engajamento contínuo** com a plataforma, promovendo **comportamentos de recompra recorrentes**.\n"
   ]
  },
  {
   "cell_type": "markdown",
   "id": "35d704af",
   "metadata": {},
   "source": [
    "### b) Análise de Viabilidade Financeira da Campanha\n",
    "\n",
    "Nesta seção, avaliamos se a campanha de cupom foi financeiramente viável como estratégia de crescimento. Para isso, foram adotadas as seguintes premissas:\n",
    "\n",
    "---\n",
    "\n",
    "#### Premissas\n",
    "\n",
    "| Premissa                                      | Valor / Descrição                     |\n",
    "|----------------------------------------------|----------------------------------------|\n",
    "| **Clientes no grupo teste**                  | 445.924                                |\n",
    "| **Aumento de ARPU (R$)**                     | R$ 17,55                                |\n",
    "| **Custo médio do cupom por cliente**         | R$ 15,00 *(estimado)*                 |\n",
    "| **% de clientes que usaram o cupom**         | 100% *(pior cenário para viabilidade)* |\n",
    "| **% de clientes que tiveram recompra**         | 20% *(baseado na análise de engajamento)* |\n",
    "| **Período analisado**                        | Dez/2018 a Jan/2019 (2 meses)          |\n",
    "\n",
    "---\n",
    "\n",
    "#### Receita adicional estimada - 1º onda:\n",
    "\n",
    "> **445.924 clientes × R$ 17,55 = R$ 7.822.967**\n",
    "\n",
    "#### Custo estimado da campanha - 1º onda:\n",
    "\n",
    "> **445.924 clientes × R$ 15 = R$ 6.688.860 (Não estou considerando demais custos. E.g: logistica, operacional, etc.)**\n",
    "\n",
    "#### Lucro incremental estimado - 1º onda:\n",
    "\n",
    "> **R$ 7.822.967 - R$ 6.688.860 = R$ 1.134.107**\n",
    "\n",
    "---\n",
    "\n",
    "### Análise de Cenários (Adesão ao cupom)\n",
    "\n",
    "| % de adesão ao cupom | Receita Estimada | Custo Estimado | Lucro Estimado |\n",
    "|----------------------|------------------|----------------|----------------|\n",
    "| 100% (pior cenário)     | R$ 7,82 milhões  | R$ 6,68 milhões| R$ 1,13 milhão |\n",
    "| 75%                  | R$ 5,87 milhões  | R$ 5,02 milhões| R$ 843 mil     |\n",
    "| 50%                  | R$ 3,91 milhões  | R$ 3,34 milhões| R$ 567 mil     |\n",
    "| 25%                  | R$ 1,95 milhões  | R$ 1,67 milhões| R$ 283 mil     |\n",
    "\n",
    "---\n",
    "\n",
    "### Agora vamos considerar o cenário que 20% dos clientes retornam para fazer uma segunda compra\n",
    "\n",
    "#### Receita adicional estimada - 2º onda:\n",
    "\n",
    "> **89.185 clientes (20% - considerando o pior cenário) × R$ 17,55 = R$ 1.565.196**\n",
    "\n",
    "#### Custo estimado da campanha - 2º onda:\n",
    "\n",
    "> **89.185 clientes (20%) × R$ 0,00 = R$ 0,00 (Não estou considerando demais custos. E.g: logistica, operacional, etc.)** \n",
    "\n",
    "#### Lucro incremental estimado - 2º onda:\n",
    "\n",
    "> **R$ 1.565.196 - R$ 0,00 = R$ 1.565.196**\n",
    "\n",
    "#### Lucro total entre a 1º e 2º onda:\n",
    "\n",
    "> **R$ 1.134.107 + R$ 1.565.196 = R$ 2.699.303**\n",
    "\n",
    "### Conclusão\n",
    "\n",
    "> Mesmo com um efeito estatístico pequeno no ARPU (Cohen’s d ≈ 0,065), o impacto financeiro agregado foi positivo.  \n",
    "> A campanha mostra-se **viável financeiramente** mesmo em cenários conservadores de adesão ao cupom, e se apresenta como uma **alavanca de crescimento escalável** para o iFood."
   ]
  },
  {
   "cell_type": "markdown",
   "id": "cc511edc",
   "metadata": {},
   "source": [
    "### C) Proposta de melhoria e novo teste A/B\n",
    "\n",
    "#### Principais aprendizados do teste atual\n",
    "\n",
    "- A campanha de cupons gerou um aumento positivo no ARPU médio (~13%) e engajamento geral (~57% dos clientes fizeram mais de 1 pedido).\n",
    "- O tamanho do efeito estatistico não foi relevante, porém o ganho financeiro obtido nas estimativas garantem que há oportunidade de melhorias no teste e obtermos maior retorno financeiro.\n",
    "\n",
    "---\n",
    "\n",
    "#### Hipóteses para melhorias\n",
    "\n",
    "1. **Segmentação por região**: regiões com maior impacto devem receber maiores investimentos promocionais.\n",
    "2. **Segmentação por comportamento passado**: clientes novos ou pouco engajados podem responder melhor a cupons agressivos.\n",
    "3. **Ajuste de valor do cupom**: testar diferentes valores para entender elasticidade de resposta por perfil.\n",
    "4. **Duração da campanha**: testar impactos de promoções contínuas vs. limitadas (urgência).\n",
    "5. **Canais de ativação**: verificar se houve variação de impacto por plataforma de origem (ex: mobile vs. web).\n",
    "\n",
    "---\n",
    "\n",
    "#### Nova proposta de teste A/B\n",
    "\n",
    "**Objetivo:** Otimizar a efetividade dos cupons, personalizando por perfil e local.\n",
    "\n",
    "| Elemento                  | Novo Design                                                  |\n",
    "|---------------------------|--------------------------------------------------------------|\n",
    "| **População elegível**    | Clientes ativos nas últimas 12 semanas                      |\n",
    "| **Segmentação**           | Por cidade **e** perfil de engajamento                      |\n",
    "| **Grupos**                | Controle (sem cupom), Cupom padrão, Cupom personalizado     |\n",
    "| **Duração**               | 2 a 3 semanas                                                |\n",
    "| **Cupom personalizado**   | Valor ajustado por cidade e frequência de uso               |\n",
    "| **Métricas principais**   | ARPU, % com 2+ e 3+ pedidos, % reativação de inativos       |\n",
    "| **Métricas secundárias**  | Retorno por R$ investido, Churn 30 dias após campanha       |\n",
    "\n",
    "---\n",
    "\n",
    "### Benefícios esperados\n",
    "\n",
    "- **Maximização do ROI** com cupons direcionados.\n",
    "- **Melhor alocação de verba promocional** em regiões com maior resposta.\n",
    "- **Identificação de perfis mais sensíveis a cupons**, para uso futuro em outras ações (como reativação de inativos).\n"
   ]
  }
 ],
 "metadata": {
  "kernelspec": {
   "display_name": "Python 3",
   "language": "python",
   "name": "python3"
  },
  "language_info": {
   "codemirror_mode": {
    "name": "ipython",
    "version": 3
   },
   "file_extension": ".py",
   "mimetype": "text/x-python",
   "name": "python",
   "nbconvert_exporter": "python",
   "pygments_lexer": "ipython3",
   "version": "3.12.4"
  }
 },
 "nbformat": 4,
 "nbformat_minor": 5
}
