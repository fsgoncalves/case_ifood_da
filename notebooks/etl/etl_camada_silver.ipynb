{
 "cells": [
  {
   "cell_type": "markdown",
   "id": "e1f60f19",
   "metadata": {},
   "source": [
    "### Configuração inicial"
   ]
  },
  {
   "cell_type": "code",
   "execution_count": 1,
   "id": "8dde7afb",
   "metadata": {},
   "outputs": [],
   "source": [
    "import sys\n",
    "sys.path.append('D:\\\\__case_ifood\\\\notebooks\\\\utils') # Defina aqui a pasta"
   ]
  },
  {
   "cell_type": "code",
   "execution_count": 2,
   "id": "99867854",
   "metadata": {},
   "outputs": [],
   "source": [
    "import importlib\n",
    "import utils\n",
    "\n",
    "# Recarregar o módulo 'utils'\n",
    "importlib.reload(utils)\n",
    "\n",
    "from utils import get_bq_client, create_dataset_and_table, safe_json_parse, credencial_gcp, pasta_projeto, semanas, bigquery, service_account, pl, pd, datetime, gc, html, json, gc, re, glob, os\n"
   ]
  },
  {
   "cell_type": "code",
   "execution_count": 3,
   "id": "b197f577",
   "metadata": {},
   "outputs": [],
   "source": [
    "# Autenticando\n",
    "credencial = service_account.Credentials.from_service_account_file(credencial_gcp)\n",
    "\n",
    "# Cliente BigQuery\n",
    "client = get_bq_client()"
   ]
  },
  {
   "cell_type": "markdown",
   "id": "01a74ff6",
   "metadata": {},
   "source": [
    "## Transformando e inserindo os dados da Tabela merchants"
   ]
  },
  {
   "cell_type": "code",
   "execution_count": null,
   "id": "5baf765f",
   "metadata": {},
   "outputs": [],
   "source": [
    "# Query\n",
    "qry = \"\"\"\n",
    "        WITH last_date_merchant AS (\n",
    "            SELECT MAX(insert_date) last_date\n",
    "            FROM bronze.merchants\n",
    "        )\n",
    "        SELECT \n",
    "              id AS merchant_id,\n",
    "              created_at,\n",
    "              enabled,\n",
    "              price_range,\n",
    "              average_ticket,\n",
    "              takeout_time,\n",
    "              delivery_time,\n",
    "              minimum_order_value,\n",
    "              merchant_zip_code,\n",
    "              merchant_city,\n",
    "              merchant_state,\n",
    "              merchant_country\n",
    "        FROM bronze.merchants m\n",
    "        INNER JOIN last_date_merchant ldm\n",
    "            ON m.insert_date = ldm.last_date\n",
    "    \"\"\"\n",
    "\n",
    "result = client.query(qry)\n",
    "arrow_table = result.to_arrow()\n",
    "df_merchants = pl.from_arrow(arrow_table)"
   ]
  },
  {
   "cell_type": "code",
   "execution_count": 7,
   "id": "a2d76486",
   "metadata": {},
   "outputs": [
    {
     "data": {
      "text/html": [
       "<div><style>\n",
       ".dataframe > thead > tr,\n",
       ".dataframe > tbody > tr {\n",
       "  text-align: right;\n",
       "  white-space: pre-wrap;\n",
       "}\n",
       "</style>\n",
       "<small>shape: (1, 3)</small><table border=\"1\" class=\"dataframe\"><thead><tr><th>total_unique_merchants</th><th>total_merchants</th><th>total_null_merchants</th></tr><tr><td>u32</td><td>u32</td><td>u32</td></tr></thead><tbody><tr><td>7292</td><td>7292</td><td>0</td></tr></tbody></table></div>"
      ],
      "text/plain": [
       "shape: (1, 3)\n",
       "┌────────────────────────┬─────────────────┬──────────────────────┐\n",
       "│ total_unique_merchants ┆ total_merchants ┆ total_null_merchants │\n",
       "│ ---                    ┆ ---             ┆ ---                  │\n",
       "│ u32                    ┆ u32             ┆ u32                  │\n",
       "╞════════════════════════╪═════════════════╪══════════════════════╡\n",
       "│ 7292                   ┆ 7292            ┆ 0                    │\n",
       "└────────────────────────┴─────────────────┴──────────────────────┘"
      ]
     },
     "execution_count": 7,
     "metadata": {},
     "output_type": "execute_result"
    }
   ],
   "source": [
    "# Valida valores únicos, totais e nulos de merchants\n",
    "df_merchants.select(\n",
    "    pl.col(\"merchant_id\").n_unique().alias(\"total_unique_merchants\"),   # Merchants únicos\n",
    "    pl.col(\"merchant_id\").count().alias(\"total_merchants\"),                     # Total de linhas (merchants)\n",
    "    pl.col(\"merchant_id\").is_null().sum().alias(\"total_null_merchants\")# Merchants nulos\n",
    ")"
   ]
  },
  {
   "cell_type": "code",
   "execution_count": 8,
   "id": "8dac5317",
   "metadata": {},
   "outputs": [
    {
     "data": {
      "text/html": [
       "<div><style>\n",
       ".dataframe > thead > tr,\n",
       ".dataframe > tbody > tr {\n",
       "  text-align: right;\n",
       "  white-space: pre-wrap;\n",
       "}\n",
       "</style>\n",
       "<small>shape: (2, 4)</small><table border=\"1\" class=\"dataframe\"><thead><tr><th>enabled</th><th>total_unique_merchants</th><th>total_merchants</th><th>total_null_merchants</th></tr><tr><td>bool</td><td>u32</td><td>u32</td><td>u32</td></tr></thead><tbody><tr><td>false</td><td>3232</td><td>3232</td><td>0</td></tr><tr><td>true</td><td>4060</td><td>4060</td><td>0</td></tr></tbody></table></div>"
      ],
      "text/plain": [
       "shape: (2, 4)\n",
       "┌─────────┬────────────────────────┬─────────────────┬──────────────────────┐\n",
       "│ enabled ┆ total_unique_merchants ┆ total_merchants ┆ total_null_merchants │\n",
       "│ ---     ┆ ---                    ┆ ---             ┆ ---                  │\n",
       "│ bool    ┆ u32                    ┆ u32             ┆ u32                  │\n",
       "╞═════════╪════════════════════════╪═════════════════╪══════════════════════╡\n",
       "│ false   ┆ 3232                   ┆ 3232            ┆ 0                    │\n",
       "│ true    ┆ 4060                   ┆ 4060            ┆ 0                    │\n",
       "└─────────┴────────────────────────┴─────────────────┴──────────────────────┘"
      ]
     },
     "execution_count": 8,
     "metadata": {},
     "output_type": "execute_result"
    }
   ],
   "source": [
    "# Validando quantidade de merchants por status (enabled)\n",
    "(\n",
    "    df_merchants\n",
    "    .group_by(\"enabled\")\n",
    "    .agg([\n",
    "        pl.col(\"merchant_id\").n_unique().alias(\"total_unique_merchants\"),\n",
    "        pl.col(\"merchant_id\").count().alias(\"total_merchants\"),\n",
    "        pl.col(\"merchant_id\").is_null().sum().alias(\"total_null_merchants\")\n",
    "    ])\n",
    ")"
   ]
  },
  {
   "cell_type": "code",
   "execution_count": 9,
   "id": "590a6c2e",
   "metadata": {},
   "outputs": [
    {
     "data": {
      "text/html": [
       "<div><style>\n",
       ".dataframe > thead > tr,\n",
       ".dataframe > tbody > tr {\n",
       "  text-align: right;\n",
       "  white-space: pre-wrap;\n",
       "}\n",
       "</style>\n",
       "<small>shape: (10, 2)</small><table border=\"1\" class=\"dataframe\"><thead><tr><th>merchant_city</th><th>total_unique_merchants</th></tr><tr><td>str</td><td>u32</td></tr></thead><tbody><tr><td>&quot;SAO PAULO&quot;</td><td>1788</td></tr><tr><td>&quot;RIO DE JANEIRO&quot;</td><td>944</td></tr><tr><td>&quot;BRASILIA&quot;</td><td>372</td></tr><tr><td>&quot;BELO HORIZONTE&quot;</td><td>337</td></tr><tr><td>&quot;FORTALEZA&quot;</td><td>200</td></tr><tr><td>&quot;CURITIBA&quot;</td><td>195</td></tr><tr><td>&quot;PORTO ALEGRE&quot;</td><td>195</td></tr><tr><td>&quot;SALVADOR&quot;</td><td>174</td></tr><tr><td>&quot;RECIFE&quot;</td><td>145</td></tr><tr><td>&quot;CAMPINAS&quot;</td><td>142</td></tr></tbody></table></div>"
      ],
      "text/plain": [
       "shape: (10, 2)\n",
       "┌────────────────┬────────────────────────┐\n",
       "│ merchant_city  ┆ total_unique_merchants │\n",
       "│ ---            ┆ ---                    │\n",
       "│ str            ┆ u32                    │\n",
       "╞════════════════╪════════════════════════╡\n",
       "│ SAO PAULO      ┆ 1788                   │\n",
       "│ RIO DE JANEIRO ┆ 944                    │\n",
       "│ BRASILIA       ┆ 372                    │\n",
       "│ BELO HORIZONTE ┆ 337                    │\n",
       "│ FORTALEZA      ┆ 200                    │\n",
       "│ CURITIBA       ┆ 195                    │\n",
       "│ PORTO ALEGRE   ┆ 195                    │\n",
       "│ SALVADOR       ┆ 174                    │\n",
       "│ RECIFE         ┆ 145                    │\n",
       "│ CAMPINAS       ┆ 142                    │\n",
       "└────────────────┴────────────────────────┘"
      ]
     },
     "execution_count": 9,
     "metadata": {},
     "output_type": "execute_result"
    }
   ],
   "source": [
    "# Valida as top 10 cidades com mais parceiros únicos\n",
    "df_merchants.group_by(\"merchant_city\").agg([\n",
    "    pl.col(\"merchant_id\").n_unique().alias(\"total_unique_merchants\")\n",
    "]).sort(\"total_unique_merchants\", descending=True).head(10)  # Exibir os 10 maiores por cidade"
   ]
  },
  {
   "cell_type": "code",
   "execution_count": 22,
   "id": "8b5e2af3",
   "metadata": {},
   "outputs": [],
   "source": [
    "# Convertendo coluna para data e capitalizando nomes de cidades\n",
    "df_merchants = df_merchants.with_columns(\n",
    "    pl.col(\"created_at\").str.to_datetime(time_unit=\"ms\"),\n",
    "    pl.col(\"merchant_city\").str.to_titlecase(),\n",
    "    pl.lit(datetime.datetime.now(datetime.UTC)).alias(\"insert_date\")\n",
    ")"
   ]
  },
  {
   "cell_type": "code",
   "execution_count": null,
   "id": "4439081a",
   "metadata": {},
   "outputs": [
    {
     "name": "stdout",
     "output_type": "stream",
     "text": [
      "Dataset 'case-ifood-fsg.silver' pronto.\n",
      "Convertido de Polars para Pandas.\n",
      "Tabela 'case-ifood-fsg.silver.merchants' criada com 7292 linhas.\n"
     ]
    }
   ],
   "source": [
    "# Inserindo dados no BigQuery\n",
    "create_dataset_and_table(\n",
    "    df=df_merchants,  \n",
    "    dataset_nome=\"silver\",\n",
    "    tabela_nome=\"merchants\",\n",
    "    client=client\n",
    ")"
   ]
  },
  {
   "cell_type": "code",
   "execution_count": 25,
   "id": "53eabbae",
   "metadata": {},
   "outputs": [
    {
     "data": {
      "text/plain": [
       "60"
      ]
     },
     "execution_count": 25,
     "metadata": {},
     "output_type": "execute_result"
    }
   ],
   "source": [
    "del df_merchants  # Liberar memória\n",
    "del result  # Liberar memória\n",
    "del arrow_table  # Liberar memória\n",
    "gc.collect()  # Coletar lixo para liberar memória"
   ]
  },
  {
   "cell_type": "markdown",
   "id": "cb118e45",
   "metadata": {},
   "source": [
    "## Transformando e inserindo os dados da tabela ab_test"
   ]
  },
  {
   "cell_type": "code",
   "execution_count": null,
   "id": "9bcd31ac",
   "metadata": {},
   "outputs": [],
   "source": [
    "qry_ab_test = \"\"\"\n",
    "              WITH last_date_ab_test AS (\n",
    "                     SELECT MAX(insert_date) last_date\n",
    "                     FROM bronze.ab_test\n",
    "              )\n",
    "              SELECT customer_id,\n",
    "                     is_target\n",
    "              FROM bronze.ab_test ab\n",
    "              INNER JOIN last_date_ab_test lab\n",
    "                  ON ab.insert_date = lab.last_date\n",
    "            \"\"\"\n",
    "\n",
    "result_ab_test = client.query(qry_ab_test)\n",
    "arrow_table_ab_test = result_ab_test.to_arrow()\n",
    "df_ab_test = pl.from_arrow(arrow_table_ab_test)"
   ]
  },
  {
   "cell_type": "code",
   "execution_count": null,
   "id": "f7af2bf5",
   "metadata": {},
   "outputs": [],
   "source": [
    "df_ab_test.head(3)  # Exibir as primeiras 3 linhas do DataFrame Polars"
   ]
  },
  {
   "cell_type": "code",
   "execution_count": null,
   "id": "340c83db",
   "metadata": {},
   "outputs": [],
   "source": [
    "# Validando se há somente cliente únicos no teste A/B\n",
    "df_ab_test.group_by(\"customer_id\").agg([\n",
    "    pl.col(\"customer_id\").count().alias(\"total_customers\"),\n",
    "    pl.col(\"customer_id\").n_unique().alias(\"total_unique_merchants\")\n",
    "]).sort(\"total_customers\", descending=True)  # Exibir os maiores por total de clientes"
   ]
  },
  {
   "cell_type": "code",
   "execution_count": null,
   "id": "d60383bb",
   "metadata": {},
   "outputs": [],
   "source": [
    "# Verificando a porcentagem de clientes únicos no teste A/B\n",
    "df_ab_test.group_by(\"is_target\").agg([\n",
    "    pl.col(\"customer_id\").n_unique().alias(\"total_unique_customers\")\n",
    "]).with_columns([\n",
    "        pl.col(\"total_unique_customers\").sum().alias(\"total_customers\"),\n",
    "        (pl.col(\"total_unique_customers\") / pl.col(\"total_unique_customers\").sum()).round(3).alias(\"percentage_customers\")\n",
    "    ])"
   ]
  },
  {
   "cell_type": "code",
   "execution_count": 29,
   "id": "8127d7b7",
   "metadata": {},
   "outputs": [],
   "source": [
    "# Criando a coluna de quando o dado será inserido no Banco\n",
    "df_ab_test = df_ab_test.with_columns([\n",
    "    pl.lit(datetime.datetime.now(datetime.UTC)).alias(\"insert_date\")\n",
    "])"
   ]
  },
  {
   "cell_type": "code",
   "execution_count": null,
   "id": "d6acc84a",
   "metadata": {},
   "outputs": [
    {
     "name": "stdout",
     "output_type": "stream",
     "text": [
      "Dataset 'case-ifood-fsg.silver' pronto.\n",
      "Convertido de Polars para Pandas.\n",
      "Tabela 'case-ifood-fsg.silver.ab_test' criada com 806467 linhas.\n"
     ]
    }
   ],
   "source": [
    "create_dataset_and_table(\n",
    "    df=df_ab_test,  \n",
    "    dataset_nome=\"silver\",\n",
    "    tabela_nome=\"ab_test\",\n",
    "    client=client\n",
    ")"
   ]
  },
  {
   "cell_type": "code",
   "execution_count": 31,
   "id": "8daf3a84",
   "metadata": {},
   "outputs": [
    {
     "data": {
      "text/plain": [
       "80"
      ]
     },
     "execution_count": 31,
     "metadata": {},
     "output_type": "execute_result"
    }
   ],
   "source": [
    "del df_ab_test # Liberar memória\n",
    "del result_ab_test  # Liberar memória\n",
    "del arrow_table_ab_test\n",
    "gc.collect()  # Coletar lixo para liberar memória"
   ]
  },
  {
   "cell_type": "markdown",
   "id": "d437d695",
   "metadata": {},
   "source": [
    "## Transformando e inserindo os dados da tabela consumer"
   ]
  },
  {
   "cell_type": "code",
   "execution_count": 32,
   "id": "a34f8f44",
   "metadata": {},
   "outputs": [],
   "source": [
    "qry_consumer = \"\"\"\n",
    "                WITH last_date_consumer AS (\n",
    "                    SELECT MAX(insert_date) last_date\n",
    "                    FROM bronze.consumer\n",
    "                )\n",
    "                SELECT \n",
    "                       customer_id,\n",
    "                       language,\n",
    "                       created_at,\n",
    "                       active,\n",
    "                       customer_name,\n",
    "                       customer_phone_area,\n",
    "                       customer_phone_number\n",
    "                FROM bronze.consumer c\n",
    "                INNER JOIN last_date_consumer ldc\n",
    "                    ON c.insert_date = ldc.last_date\n",
    "                \"\"\"\n",
    "\n",
    "result_consumer = client.query(qry_consumer)\n",
    "arrow_table_consumer = result_consumer.to_arrow()\n",
    "df_consumer_polars = pl.from_arrow(arrow_table_consumer)"
   ]
  },
  {
   "cell_type": "code",
   "execution_count": 33,
   "id": "b42241c9",
   "metadata": {},
   "outputs": [
    {
     "data": {
      "text/html": [
       "<div><style>\n",
       ".dataframe > thead > tr,\n",
       ".dataframe > tbody > tr {\n",
       "  text-align: right;\n",
       "  white-space: pre-wrap;\n",
       "}\n",
       "</style>\n",
       "<small>shape: (806_156, 3)</small><table border=\"1\" class=\"dataframe\"><thead><tr><th>customer_id</th><th>total_customers</th><th>total_unique_merchants</th></tr><tr><td>str</td><td>u32</td><td>u32</td></tr></thead><tbody><tr><td>&quot;958656fbca659a5245174689bb458f…</td><td>1</td><td>1</td></tr><tr><td>&quot;9231bf08ea0d25a0a37470e48eb082…</td><td>1</td><td>1</td></tr><tr><td>&quot;79d4a0836dc8f96393d54e259c3729…</td><td>1</td><td>1</td></tr><tr><td>&quot;5a870f6160302d857ed47349a48586…</td><td>1</td><td>1</td></tr><tr><td>&quot;00eaf98d7fa95b70bcfb2a8080ff31…</td><td>1</td><td>1</td></tr><tr><td>&hellip;</td><td>&hellip;</td><td>&hellip;</td></tr><tr><td>&quot;7c7fe221576495ad96e6f3d3679a04…</td><td>1</td><td>1</td></tr><tr><td>&quot;7b989d2d93c08159e2193d84b56575…</td><td>1</td><td>1</td></tr><tr><td>&quot;6a27f0027bed0f450b7762d1353f97…</td><td>1</td><td>1</td></tr><tr><td>&quot;e98aed7e3e3a24daba0a27e116fd87…</td><td>1</td><td>1</td></tr><tr><td>&quot;b4b0fcc03b3dba188be9ce61b2b2ce…</td><td>1</td><td>1</td></tr></tbody></table></div>"
      ],
      "text/plain": [
       "shape: (806_156, 3)\n",
       "┌─────────────────────────────────┬─────────────────┬────────────────────────┐\n",
       "│ customer_id                     ┆ total_customers ┆ total_unique_merchants │\n",
       "│ ---                             ┆ ---             ┆ ---                    │\n",
       "│ str                             ┆ u32             ┆ u32                    │\n",
       "╞═════════════════════════════════╪═════════════════╪════════════════════════╡\n",
       "│ 958656fbca659a5245174689bb458f… ┆ 1               ┆ 1                      │\n",
       "│ 9231bf08ea0d25a0a37470e48eb082… ┆ 1               ┆ 1                      │\n",
       "│ 79d4a0836dc8f96393d54e259c3729… ┆ 1               ┆ 1                      │\n",
       "│ 5a870f6160302d857ed47349a48586… ┆ 1               ┆ 1                      │\n",
       "│ 00eaf98d7fa95b70bcfb2a8080ff31… ┆ 1               ┆ 1                      │\n",
       "│ …                               ┆ …               ┆ …                      │\n",
       "│ 7c7fe221576495ad96e6f3d3679a04… ┆ 1               ┆ 1                      │\n",
       "│ 7b989d2d93c08159e2193d84b56575… ┆ 1               ┆ 1                      │\n",
       "│ 6a27f0027bed0f450b7762d1353f97… ┆ 1               ┆ 1                      │\n",
       "│ e98aed7e3e3a24daba0a27e116fd87… ┆ 1               ┆ 1                      │\n",
       "│ b4b0fcc03b3dba188be9ce61b2b2ce… ┆ 1               ┆ 1                      │\n",
       "└─────────────────────────────────┴─────────────────┴────────────────────────┘"
      ]
     },
     "execution_count": 33,
     "metadata": {},
     "output_type": "execute_result"
    }
   ],
   "source": [
    "df_consumer_polars.group_by(\"customer_id\").agg([\n",
    "    pl.col(\"customer_id\").count().alias(\"total_customers\"),\n",
    "    pl.col(\"customer_id\").n_unique().alias(\"total_unique_merchants\")\n",
    "]).sort(\"total_unique_merchants\", descending=True)  # Exibir os maiores por total de clientes"
   ]
  },
  {
   "cell_type": "code",
   "execution_count": 34,
   "id": "5934f483",
   "metadata": {},
   "outputs": [
    {
     "data": {
      "text/html": [
       "<div><style>\n",
       ".dataframe > thead > tr,\n",
       ".dataframe > tbody > tr {\n",
       "  text-align: right;\n",
       "  white-space: pre-wrap;\n",
       "}\n",
       "</style>\n",
       "<small>shape: (3, 6)</small><table border=\"1\" class=\"dataframe\"><thead><tr><th>active</th><th>language</th><th>total_unique_customers</th><th>total_customers</th><th>total_customers_sum</th><th>percentage_customers</th></tr><tr><td>bool</td><td>str</td><td>u32</td><td>u32</td><td>u32</td><td>f64</td></tr></thead><tbody><tr><td>false</td><td>&quot;pt-br&quot;</td><td>1595</td><td>1595</td><td>806156</td><td>0.002</td></tr><tr><td>true</td><td>&quot;es-ar&quot;</td><td>2</td><td>2</td><td>806156</td><td>0.0</td></tr><tr><td>true</td><td>&quot;pt-br&quot;</td><td>804559</td><td>804559</td><td>806156</td><td>0.998</td></tr></tbody></table></div>"
      ],
      "text/plain": [
       "shape: (3, 6)\n",
       "┌────────┬──────────┬────────────────────┬─────────────────┬───────────────────┬───────────────────┐\n",
       "│ active ┆ language ┆ total_unique_custo ┆ total_customers ┆ total_customers_s ┆ percentage_custom │\n",
       "│ ---    ┆ ---      ┆ mers               ┆ ---             ┆ um                ┆ ers               │\n",
       "│ bool   ┆ str      ┆ ---                ┆ u32             ┆ ---               ┆ ---               │\n",
       "│        ┆          ┆ u32                ┆                 ┆ u32               ┆ f64               │\n",
       "╞════════╪══════════╪════════════════════╪═════════════════╪═══════════════════╪═══════════════════╡\n",
       "│ false  ┆ pt-br    ┆ 1595               ┆ 1595            ┆ 806156            ┆ 0.002             │\n",
       "│ true   ┆ es-ar    ┆ 2                  ┆ 2               ┆ 806156            ┆ 0.0               │\n",
       "│ true   ┆ pt-br    ┆ 804559             ┆ 804559          ┆ 806156            ┆ 0.998             │\n",
       "└────────┴──────────┴────────────────────┴─────────────────┴───────────────────┴───────────────────┘"
      ]
     },
     "execution_count": 34,
     "metadata": {},
     "output_type": "execute_result"
    }
   ],
   "source": [
    "# Validando a porcentagem de clientes únicos por status e idioma\n",
    "df_consumer_polars.group_by([\"active\",\"language\"]).agg([\n",
    "    pl.col(\"customer_id\").n_unique().alias(\"total_unique_customers\"),\n",
    "    pl.col(\"customer_id\").count().alias(\"total_customers\")\n",
    "]).with_columns([\n",
    "    pl.col(\"total_customers\").sum().alias(\"total_customers_sum\"),\n",
    "    (pl.col(\"total_unique_customers\") / pl.col(\"total_customers\").sum()).round(3).alias(\"percentage_customers\")\n",
    "])"
   ]
  },
  {
   "cell_type": "code",
   "execution_count": 35,
   "id": "fce45f13",
   "metadata": {},
   "outputs": [],
   "source": [
    "# Laço utilizado para remover aspas e desfazer entidades HTML\n",
    "\n",
    "df_consumer = df_consumer_polars.to_pandas()  # Convertendo de Polars para Pandas\n",
    "\n",
    "for col in df_consumer.select_dtypes(include='object'):\n",
    "    df_consumer[col] = (\n",
    "        df_consumer[col]\n",
    "        .str.replace('\"', '', regex=False)  # remove aspas duplas\n",
    "        .str.replace(\"'\", \"\", regex=False)  # remove aspas simples\n",
    "        .apply(lambda x: html.unescape(x) if isinstance(x, str) else x)\n",
    "    )"
   ]
  },
  {
   "cell_type": "code",
   "execution_count": null,
   "id": "5250c89c",
   "metadata": {},
   "outputs": [],
   "source": [
    "df_consumer[\"created_at\"] = pd.to_datetime(df_consumer[\"created_at\"])\n",
    "df_consumer[\"insert_date\"] = pd.Timestamp.utcnow()"
   ]
  },
  {
   "cell_type": "code",
   "execution_count": null,
   "id": "b318ab47",
   "metadata": {},
   "outputs": [
    {
     "name": "stdout",
     "output_type": "stream",
     "text": [
      "Dataset 'case-ifood-fsg.silver' pronto.\n",
      "Tabela 'case-ifood-fsg.silver.consumer' criada com 806156 linhas.\n"
     ]
    }
   ],
   "source": [
    "create_dataset_and_table(\n",
    "    df=df_consumer,  \n",
    "    dataset_nome=\"silver\",\n",
    "    tabela_nome=\"consumer\",\n",
    "    client=client\n",
    ")"
   ]
  },
  {
   "cell_type": "code",
   "execution_count": 42,
   "id": "3758cc56",
   "metadata": {},
   "outputs": [
    {
     "data": {
      "text/plain": [
       "449"
      ]
     },
     "execution_count": 42,
     "metadata": {},
     "output_type": "execute_result"
    }
   ],
   "source": [
    "del df_consumer_polars  # Liberar memória\n",
    "del df_consumer # Liberar memória\n",
    "del result_consumer  # Liberar memória\n",
    "del arrow_table_consumer  # Liberar memória\n",
    "gc.collect()  # Coletar lixo para liberar memória"
   ]
  },
  {
   "cell_type": "markdown",
   "id": "3c8b2387",
   "metadata": {},
   "source": [
    "## Transformando e inserindo os dados da tabela orders"
   ]
  },
  {
   "cell_type": "markdown",
   "id": "9651ec00",
   "metadata": {},
   "source": [
    "#### Código abaixo utilizado para verificar a quantidade de registros por semana, pois tive dificuldades de ler toda a tabela diretamente\n",
    "\n",
    "```sql\n",
    "SELECT \n",
    "       CAST(\n",
    "          DATE(\n",
    "              DATE_TRUNC(o.order_created_at,WEEK)\n",
    "              ) \n",
    "         AS STRING) AS semana,\n",
    "       COUNT(*) qtd\n",
    "FROM `bronze.orders` o\n",
    "GROUP BY ALL\n",
    "```"
   ]
  },
  {
   "cell_type": "code",
   "execution_count": 43,
   "id": "423c45eb",
   "metadata": {},
   "outputs": [
    {
     "name": "stdout",
     "output_type": "stream",
     "text": [
      "Lendo semana: 2018-12-02\n",
      "Lendo semana: 2018-12-09\n",
      "Lendo semana: 2018-12-16\n",
      "Lendo semana: 2018-12-23\n",
      "Lendo semana: 2018-12-30\n",
      "Lendo semana: 2019-01-06\n",
      "Lendo semana: 2019-01-13\n",
      "Lendo semana: 2019-01-20\n",
      "Lendo semana: 2019-01-27\n",
      "Dados carregados com sucesso!\n",
      "(3670826, 21)\n"
     ]
    }
   ],
   "source": [
    "df_orders_chunk = []\n",
    "\n",
    "for semana in semanas:\n",
    "    print(f\"Lendo semana: {semana}\")\n",
    "\n",
    "    qry = f\"\"\"\n",
    "        WITH base AS (\n",
    "            SELECT\n",
    "                CAST(DATE(DATE_TRUNC(order_created_at, WEEK)) AS STRING) AS semana,\n",
    "                * EXCEPT(items)\n",
    "            FROM bronze.orders\n",
    "        )\n",
    "        SELECT * EXCEPT(semana)\n",
    "        FROM base\n",
    "        WHERE semana = '{semana}'\n",
    "    \"\"\"\n",
    "\n",
    "    result = client.query(qry)\n",
    "    arrow_table = result.to_arrow()\n",
    "    df = pl.from_arrow(arrow_table)\n",
    "    df_orders_chunk.append(df)\n",
    "\n",
    "df_orders = pl.concat(df_orders_chunk, how=\"vertical\")\n",
    "\n",
    "print(\"Dados carregados com sucesso!\")\n",
    "print(df_orders.shape)"
   ]
  },
  {
   "cell_type": "code",
   "execution_count": 44,
   "id": "1dab81fc",
   "metadata": {},
   "outputs": [
    {
     "data": {
      "text/plain": [
       "0"
      ]
     },
     "execution_count": 44,
     "metadata": {},
     "output_type": "execute_result"
    }
   ],
   "source": [
    "del df # Liberar memória\n",
    "del df_orders_chunk  # Liberar memória\n",
    "del arrow_table  # Liberar memória\n",
    "gc.collect()  # Coletar lixo para liberar memória"
   ]
  },
  {
   "cell_type": "code",
   "execution_count": null,
   "id": "73481eb2",
   "metadata": {},
   "outputs": [
    {
     "data": {
      "text/html": [
       "<div><style>\n",
       ".dataframe > thead > tr,\n",
       ".dataframe > tbody > tr {\n",
       "  text-align: right;\n",
       "  white-space: pre-wrap;\n",
       "}\n",
       "</style>\n",
       "<small>shape: (198, 4)</small><table border=\"1\" class=\"dataframe\"><thead><tr><th>delivery_address_city</th><th>total_unique_orders</th><th>total_orders</th><th>total_order_amount</th></tr><tr><td>str</td><td>u32</td><td>u32</td><td>f64</td></tr></thead><tbody><tr><td>&quot;SAO PAULO&quot;</td><td>654173</td><td>986729</td><td>5.5832e7</td></tr><tr><td>&quot;RIO DE JANEIRO&quot;</td><td>439294</td><td>659738</td><td>3.4998e7</td></tr><tr><td>&quot;FORTALEZA&quot;</td><td>114318</td><td>171392</td><td>6.7288e6</td></tr><tr><td>&quot;BRASILIA&quot;</td><td>85675</td><td>132016</td><td>5.9098e6</td></tr><tr><td>&quot;RECIFE&quot;</td><td>84725</td><td>128145</td><td>5.9092e6</td></tr><tr><td>&hellip;</td><td>&hellip;</td><td>&hellip;</td><td>&hellip;</td></tr><tr><td>&quot;SEROPEDICA&quot;</td><td>1</td><td>1</td><td>44.5</td></tr><tr><td>&quot;ITABORAI&quot;</td><td>1</td><td>1</td><td>66.0</td></tr><tr><td>&quot;CAMACARI&quot;</td><td>1</td><td>1</td><td>121.7</td></tr><tr><td>&quot;JAPERI&quot;</td><td>1</td><td>1</td><td>19.8</td></tr><tr><td>&quot;ARACRUZ&quot;</td><td>1</td><td>2</td><td>51.0</td></tr></tbody></table></div>"
      ],
      "text/plain": [
       "shape: (198, 4)\n",
       "┌───────────────────────┬─────────────────────┬──────────────┬────────────────────┐\n",
       "│ delivery_address_city ┆ total_unique_orders ┆ total_orders ┆ total_order_amount │\n",
       "│ ---                   ┆ ---                 ┆ ---          ┆ ---                │\n",
       "│ str                   ┆ u32                 ┆ u32          ┆ f64                │\n",
       "╞═══════════════════════╪═════════════════════╪══════════════╪════════════════════╡\n",
       "│ SAO PAULO             ┆ 654173              ┆ 986729       ┆ 5.5832e7           │\n",
       "│ RIO DE JANEIRO        ┆ 439294              ┆ 659738       ┆ 3.4998e7           │\n",
       "│ FORTALEZA             ┆ 114318              ┆ 171392       ┆ 6.7288e6           │\n",
       "│ BRASILIA              ┆ 85675               ┆ 132016       ┆ 5.9098e6           │\n",
       "│ RECIFE                ┆ 84725               ┆ 128145       ┆ 5.9092e6           │\n",
       "│ …                     ┆ …                   ┆ …            ┆ …                  │\n",
       "│ SEROPEDICA            ┆ 1                   ┆ 1            ┆ 44.5               │\n",
       "│ ITABORAI              ┆ 1                   ┆ 1            ┆ 66.0               │\n",
       "│ CAMACARI              ┆ 1                   ┆ 1            ┆ 121.7              │\n",
       "│ JAPERI                ┆ 1                   ┆ 1            ┆ 19.8               │\n",
       "│ ARACRUZ               ┆ 1                   ┆ 2            ┆ 51.0               │\n",
       "└───────────────────────┴─────────────────────┴──────────────┴────────────────────┘"
      ]
     },
     "execution_count": 45,
     "metadata": {},
     "output_type": "execute_result"
    }
   ],
   "source": [
    "# Validando quantidade de pedidos únicos por cidade de entrega\n",
    "# Verificado que a coluna 'order_id' não é única por pedido, pois há menos pedidos únicos do que pedidos totais\n",
    "df_orders.group_by(\"delivery_address_city\").agg([\n",
    "    pl.col(\"order_id\").n_unique().alias(\"total_unique_orders\"),\n",
    "    pl.col(\"order_id\").count().alias(\"total_orders\"),\n",
    "    pl.col(\"order_total_amount\").sum().alias(\"total_order_amount\")\n",
    "]).sort(\"total_unique_orders\", descending=True)  # Exibir os maiores por total de pedidos únicos"
   ]
  },
  {
   "cell_type": "code",
   "execution_count": 46,
   "id": "05ca2d07",
   "metadata": {},
   "outputs": [
    {
     "data": {
      "text/html": [
       "<div><style>\n",
       ".dataframe > thead > tr,\n",
       ".dataframe > tbody > tr {\n",
       "  text-align: right;\n",
       "  white-space: pre-wrap;\n",
       "}\n",
       "</style>\n",
       "<small>shape: (5, 4)</small><table border=\"1\" class=\"dataframe\"><thead><tr><th>order_id</th><th>customer_id</th><th>total_orders</th><th>total_unique_cpf</th></tr><tr><td>str</td><td>str</td><td>u32</td><td>u32</td></tr></thead><tbody><tr><td>&quot;6a4269fefe6cc9bce7b4e020fc4cda…</td><td>&quot;197f9d35039d28270b8aa120d6f79e…</td><td>2</td><td>2</td></tr><tr><td>&quot;8e860b4cf9fee1a245c3110fc922ef…</td><td>&quot;97b82da1126969fdf8ccee5f27472f…</td><td>2</td><td>2</td></tr><tr><td>&quot;66ce985d554e17cf3d069602bc9eed…</td><td>&quot;b0bb4ba96beae58d66db5823188407…</td><td>2</td><td>2</td></tr><tr><td>&quot;2c02464549bc819567c96468086f23…</td><td>&quot;3fd281fcba35c2ca8fb5604049830a…</td><td>2</td><td>2</td></tr><tr><td>&quot;2c9676868cfba869a6419bb3a871ae…</td><td>&quot;6c7933364ecf5bb99d58c340d403b9…</td><td>2</td><td>2</td></tr></tbody></table></div>"
      ],
      "text/plain": [
       "shape: (5, 4)\n",
       "┌────────────────────────────────┬───────────────────────────────┬──────────────┬──────────────────┐\n",
       "│ order_id                       ┆ customer_id                   ┆ total_orders ┆ total_unique_cpf │\n",
       "│ ---                            ┆ ---                           ┆ ---          ┆ ---              │\n",
       "│ str                            ┆ str                           ┆ u32          ┆ u32              │\n",
       "╞════════════════════════════════╪═══════════════════════════════╪══════════════╪══════════════════╡\n",
       "│ 6a4269fefe6cc9bce7b4e020fc4cda ┆ 197f9d35039d28270b8aa120d6f79 ┆ 2            ┆ 2                │\n",
       "│ …                              ┆ e…                            ┆              ┆                  │\n",
       "│ 8e860b4cf9fee1a245c3110fc922ef ┆ 97b82da1126969fdf8ccee5f27472 ┆ 2            ┆ 2                │\n",
       "│ …                              ┆ f…                            ┆              ┆                  │\n",
       "│ 66ce985d554e17cf3d069602bc9eed ┆ b0bb4ba96beae58d66db582318840 ┆ 2            ┆ 2                │\n",
       "│ …                              ┆ 7…                            ┆              ┆                  │\n",
       "│ 2c02464549bc819567c96468086f23 ┆ 3fd281fcba35c2ca8fb5604049830 ┆ 2            ┆ 2                │\n",
       "│ …                              ┆ a…                            ┆              ┆                  │\n",
       "│ 2c9676868cfba869a6419bb3a871ae ┆ 6c7933364ecf5bb99d58c340d403b ┆ 2            ┆ 2                │\n",
       "│ …                              ┆ 9…                            ┆              ┆                  │\n",
       "└────────────────────────────────┴───────────────────────────────┴──────────────┴──────────────────┘"
      ]
     },
     "execution_count": 46,
     "metadata": {},
     "output_type": "execute_result"
    }
   ],
   "source": [
    "# Para um mesmo pedido e mesmo cliente, tenho 2 ou mais registros,\n",
    "# Verificado que há mais de um cpf para o mesmo pedido\n",
    "df_orders.group_by([\"order_id\",\"customer_id\"]).agg([\n",
    "    pl.col(\"order_id\").count().alias(\"total_orders\"),\n",
    "    pl.col(\"cpf\").n_unique().alias(\"total_unique_cpf\") # Verifica se o CPF é único por pedido\n",
    "]).sort(\"total_orders\", descending=True).head(5)  # Exibir os maiores por total de pedidos"
   ]
  },
  {
   "cell_type": "code",
   "execution_count": 47,
   "id": "395b4ef7",
   "metadata": {},
   "outputs": [],
   "source": [
    "# Criando a coluna 'rn' para identificar a ordem dos pedidos\n",
    "df_orders = (\n",
    "    df_orders.sort([\"order_id\", \"order_created_at\"])\n",
    "    .with_columns([\n",
    "        pl.arange(0, pl.len()).over(\"order_id\").alias(\"rn\") + 1\n",
    "    ])\n",
    ")"
   ]
  },
  {
   "cell_type": "code",
   "execution_count": 53,
   "id": "93d26071",
   "metadata": {},
   "outputs": [
    {
     "data": {
      "text/html": [
       "<div><style>\n",
       ".dataframe > thead > tr,\n",
       ".dataframe > tbody > tr {\n",
       "  text-align: right;\n",
       "  white-space: pre-wrap;\n",
       "}\n",
       "</style>\n",
       "<small>shape: (1, 3)</small><table border=\"1\" class=\"dataframe\"><thead><tr><th>qtd_pedidos_unicos</th><th>qtd_pedidos</th><th>venda_total</th></tr><tr><td>u32</td><td>u32</td><td>f64</td></tr></thead><tbody><tr><td>1237852</td><td>1237852</td><td>5.9180e7</td></tr></tbody></table></div>"
      ],
      "text/plain": [
       "shape: (1, 3)\n",
       "┌────────────────────┬─────────────┬─────────────┐\n",
       "│ qtd_pedidos_unicos ┆ qtd_pedidos ┆ venda_total │\n",
       "│ ---                ┆ ---         ┆ ---         │\n",
       "│ u32                ┆ u32         ┆ f64         │\n",
       "╞════════════════════╪═════════════╪═════════════╡\n",
       "│ 1237852            ┆ 1237852     ┆ 5.9180e7    │\n",
       "└────────────────────┴─────────────┴─────────────┘"
      ]
     },
     "execution_count": 53,
     "metadata": {},
     "output_type": "execute_result"
    }
   ],
   "source": [
    "# Verificando a quantidade de pedidos duplicados e o total de venda\n",
    "df_orders.filter(pl.col(\"rn\") == 2).select([\n",
    "    pl.col(\"order_id\").n_unique().alias(\"qtd_pedidos_unicos\"),\n",
    "    pl.col(\"order_id\").count().alias(\"qtd_pedidos\"),\n",
    "    pl.col(\"order_total_amount\").sum().alias(\"venda_total\")\n",
    "])"
   ]
  },
  {
   "cell_type": "markdown",
   "id": "818f0e46",
   "metadata": {},
   "source": [
    "#### Apesar de ser um valor bem expressivo que estou rotulando como duplicado, em um cenário real, levantaria alguns casos para discutir com a área de negócio e com o time de tecnologia para entender se de fato é um dado duplicado ou não para só então aplicar o filtro."
   ]
  },
  {
   "cell_type": "code",
   "execution_count": 54,
   "id": "b9506abb",
   "metadata": {},
   "outputs": [],
   "source": [
    "# Removendo duplicatas de pedidos por cliente\n",
    "df_orders = df_orders.filter(pl.col(\"rn\") == 1)"
   ]
  },
  {
   "cell_type": "markdown",
   "id": "f6a103f5",
   "metadata": {},
   "source": [
    "#### Criando, transformando e inserindo o df_order no BQ, que armazenará o cabeçalho do pedido."
   ]
  },
  {
   "cell_type": "code",
   "execution_count": 55,
   "id": "6a9fc01d",
   "metadata": {},
   "outputs": [],
   "source": [
    "# Aplicando algumas transformações\n",
    "df_orders = df_orders.with_columns(\n",
    "    pl.col(\"cpf\").cast(pl.Utf8).str.zfill(11), # preenchendo CPF com zeros à esquerda\n",
    "    pl.col(\"delivery_address_city\").str.to_titlecase(),\n",
    "    pl.col(\"customer_name\").str.to_titlecase().str.replace(\"'\", \"\"),\n",
    "    pl.col(\"delivery_address_district\").str.to_titlecase(),\n",
    "    pl.lit(datetime.datetime.now(datetime.UTC)).alias(\"insert_date\")\n",
    ").select(\n",
    "    pl.col(\"order_id\"),\n",
    "    pl.col(\"order_created_at\"),\n",
    "    pl.col(\"cpf\"),\n",
    "    pl.col(\"customer_id\"),\n",
    "    pl.col(\"customer_name\"),\n",
    "    pl.col(\"delivery_address_district\"),\n",
    "    pl.col(\"delivery_address_city\"),\n",
    "    pl.col(\"delivery_address_state\"),\n",
    "    pl.col(\"delivery_address_country\"),\n",
    "    pl.col(\"delivery_address_zip_code\"),\n",
    "    pl.col(\"delivery_address_latitude\"),\n",
    "    pl.col(\"delivery_address_longitude\"),\n",
    "    pl.col(\"delivery_address_external_id\"),\n",
    "    pl.col(\"merchant_id\"),\n",
    "    pl.col(\"merchant_latitude\"),\n",
    "    pl.col(\"merchant_longitude\"),\n",
    "    pl.col(\"merchant_timezone\"),\n",
    "    pl.col(\"order_total_amount\"),\n",
    "    pl.col(\"order_scheduled\"),\n",
    "    pl.col(\"order_scheduled_date\"),\n",
    "    pl.col(\"origin_platform\"),\n",
    "    pl.col(\"insert_date\")\n",
    ")"
   ]
  },
  {
   "cell_type": "code",
   "execution_count": null,
   "id": "77b53bd5",
   "metadata": {},
   "outputs": [
    {
     "name": "stdout",
     "output_type": "stream",
     "text": [
      "Dataset 'case-ifood-fsg.silver' pronto.\n",
      "Convertido de Polars para Pandas.\n",
      "Enviando chunk 1/3 com 1000000 linhas...\n",
      "Enviando chunk 2/3 com 1000000 linhas...\n",
      "Enviando chunk 3/3 com 432974 linhas...\n",
      "Tabela 'case-ifood-fsg.silver.order' carregada com 2432974 linhas.\n"
     ]
    }
   ],
   "source": [
    "create_dataset_and_table(\n",
    "    df=df_orders,  \n",
    "    dataset_nome=\"silver\",\n",
    "    tabela_nome=\"order\",\n",
    "    client=client,\n",
    "    use_chunk=True\n",
    ")"
   ]
  },
  {
   "cell_type": "code",
   "execution_count": 58,
   "id": "f35673f0",
   "metadata": {},
   "outputs": [
    {
     "data": {
      "text/plain": [
       "42"
      ]
     },
     "execution_count": 58,
     "metadata": {},
     "output_type": "execute_result"
    }
   ],
   "source": [
    "del df_orders  # Liberar memória\n",
    "gc.collect()  # Coletar lixo para liberar memória"
   ]
  },
  {
   "cell_type": "markdown",
   "id": "f1c6425d",
   "metadata": {},
   "source": [
    "#### Criando, transformando e inserindo o df_order_details no BQ, que armazenará os itens do pedido."
   ]
  },
  {
   "cell_type": "code",
   "execution_count": 4,
   "id": "dba4a584",
   "metadata": {},
   "outputs": [
    {
     "name": "stdout",
     "output_type": "stream",
     "text": [
      "Lendo semana: 2018-12-02\n",
      "Lendo semana: 2018-12-09\n",
      "Lendo semana: 2018-12-16\n",
      "Lendo semana: 2018-12-23\n",
      "Lendo semana: 2018-12-30\n",
      "Lendo semana: 2019-01-06\n",
      "Lendo semana: 2019-01-13\n",
      "Lendo semana: 2019-01-20\n",
      "Lendo semana: 2019-01-27\n",
      "Dados carregados com sucesso!\n",
      "(2432974, 3)\n"
     ]
    }
   ],
   "source": [
    "dfs_order_details = []\n",
    "\n",
    "for semana in semanas:\n",
    "    print(f\"Lendo semana: {semana}\")\n",
    "# Como identificado na célula anterior, a coluna 'order_id' não é única por pedido,\n",
    "# então é necessário filtrar os pedidos para pegar os registros sem duplicatas.\n",
    "    qry = f\"\"\"\n",
    "        WITH base AS (\n",
    "                SELECT\n",
    "                    CAST(DATE(DATE_TRUNC(order_created_at, WEEK)) AS STRING) AS semana,\n",
    "                    order_id,\n",
    "                    cpf,\n",
    "                    items\n",
    "                FROM bronze.orders\n",
    "                QUALIFY ROW_NUMBER() OVER(PARTITION BY order_id ORDER BY order_created_at ASC) = 1\n",
    "            )\n",
    "                SELECT * EXCEPT(semana)\n",
    "                FROM base\n",
    "                WHERE semana = '{semana}'\n",
    "    \"\"\"\n",
    "\n",
    "    result = client.query(qry)\n",
    "    arrow_table = result.to_arrow()\n",
    "    df = pl.from_arrow(arrow_table)\n",
    "    dfs_order_details.append(df)\n",
    "\n",
    "df_order_details = pl.concat(dfs_order_details, how=\"vertical\")\n",
    "\n",
    "print(\"Dados carregados com sucesso!\")\n",
    "print(df_order_details.shape)"
   ]
  },
  {
   "cell_type": "code",
   "execution_count": 5,
   "id": "a6ff0ea6",
   "metadata": {},
   "outputs": [
    {
     "data": {
      "text/plain": [
       "31"
      ]
     },
     "execution_count": 5,
     "metadata": {},
     "output_type": "execute_result"
    }
   ],
   "source": [
    "del df # Liberar memória\n",
    "del dfs_order_details  # Liberar memória\n",
    "del arrow_table  # Liberar memória\n",
    "gc.collect()  # Coletar lixo para liberar memória"
   ]
  },
  {
   "cell_type": "code",
   "execution_count": null,
   "id": "825f6e2f",
   "metadata": {},
   "outputs": [],
   "source": [
    "# Célula criada para buscar dados locais sem precisar do BQ\n",
    "#df_order_details.write_parquet(\n",
    " #   os.path.join(pasta_projeto,\"order_details.parquet\")\n",
    "#)\n",
    "\n",
    "#df_order_details = pl.read_parquet(os.path.join(pasta_projeto,\"order_details.parquet\"))\n"
   ]
  },
  {
   "cell_type": "code",
   "execution_count": null,
   "id": "915b5d5b",
   "metadata": {},
   "outputs": [],
   "source": [
    "# função para limpar e analisar o JSON\n",
    "def safe_json_parse(text):\n",
    "    try:\n",
    "\n",
    "         # Garante que o texto é string\n",
    "        if not isinstance(text, str):\n",
    "            return None\n",
    "        \n",
    "        # Etapa 1: limpeza básica\n",
    "        text = text.strip()\n",
    "\n",
    "        # Remove aspas externas: \"....\" → ....\n",
    "        if text.startswith('\"') and text.endswith('\"'):\n",
    "            text = text[1:-1]\n",
    "\n",
    "        # Etapa 2: transforma \\\\\\\" → \" (escape duplo)\n",
    "        text = text.replace('\\\\\\\"', '\"')\n",
    "\n",
    "        # Etapa 3: transforma \\\" → \" (escape simples)\n",
    "        text = text.replace('\\\"', '\"')\n",
    "\n",
    "        # Etapa 4: substitui aspas duplas duplicadas no início e fim: \"\"abc\"\" → \"abc\"\n",
    "        text = re.sub(r'\"\"([^\"]*?)\"\"', r'\"\\1\"', text)\n",
    "\n",
    "        # Etapa 5: reduz excesso de aspas seguidas internas: \"\"\" → \"\n",
    "        text = re.sub(r'\"+', r'\"', text)\n",
    "\n",
    "        # Etapa 6: remove barras soltas antes de aspas\n",
    "        text = re.sub(r'\\\\\"', r'\"', text)\n",
    "\n",
    "        # Etapa 7: parse final\n",
    "        return json.loads(text)\n",
    "\n",
    "    except Exception:\n",
    "        return None"
   ]
  },
  {
   "cell_type": "code",
   "execution_count": 6,
   "id": "b321ff30",
   "metadata": {},
   "outputs": [
    {
     "name": "stdout",
     "output_type": "stream",
     "text": [
      "Processando linhas 0 até 350000...\n",
      "Processando linhas 350000 até 700000...\n",
      "Processando linhas 700000 até 1050000...\n",
      "Processando linhas 1050000 até 1400000...\n",
      "Processando linhas 1400000 até 1750000...\n",
      "Processando linhas 1750000 até 2100000...\n",
      "Processando linhas 2100000 até 2432974...\n",
      "Todos os chunks processados e salvos em disco com sucesso.\n"
     ]
    }
   ],
   "source": [
    "# Dividir o DataFrame em chunks para processamento\n",
    "chunk_size = 350_000\n",
    "n = df_order_details.height\n",
    "\n",
    "# Processar cada chunk\n",
    "for start in range(0, n, chunk_size):\n",
    "    end = min(start + chunk_size, n)\n",
    "    print(f\"Processando linhas {start} até {end}...\")\n",
    "\n",
    "    chunk = df_order_details.slice(start, end - start)\n",
    "    chunk = chunk.with_columns(\n",
    "        pl.col(\"items\").cast(pl.Utf8).str.strip_chars().alias(\"items_clean\")\n",
    "    )\n",
    "\n",
    "    chunk = chunk.with_columns(\n",
    "        pl.col(\"items_clean\").map_elements(safe_json_parse, return_dtype=pl.Object).alias(\"parsed_items\")\n",
    "    )\n",
    "\n",
    "# Filtrar os chunks válidos e inválidos\n",
    "    chunk_valid = chunk.filter(pl.col(\"parsed_items\").is_not_null())\n",
    "    chunk_invalid = chunk.filter(pl.col(\"parsed_items\").is_null())\n",
    "\n",
    "    # Salva as inválidas direto\n",
    "    if chunk_invalid.height > 0:\n",
    "        chunk_invalid = chunk_invalid.with_columns([\n",
    "        pl.col(c).cast(pl.Utf8) for c in chunk_invalid.columns\n",
    "    ])\n",
    "        chunk_invalid.write_csv(os.path.join(pasta_projeto,f\"invalid_{start}.csv\"))\n",
    "\n",
    "    # Explode manualmente\n",
    "    exploded_rows = []\n",
    "    for row in chunk_valid.iter_rows(named=True):\n",
    "        order_id = row[\"order_id\"]\n",
    "        cpf = row[\"cpf\"]\n",
    "        parsed_items = row[\"parsed_items\"]\n",
    "\n",
    "        if not isinstance(parsed_items, list):\n",
    "            continue\n",
    "\n",
    "        for item in parsed_items:\n",
    "            exploded_rows.append({\n",
    "                \"order_id\": order_id,\n",
    "                \"cpf\": cpf,\n",
    "                \"name\": str(item.get(\"name\", \"\")),\n",
    "                \"quantity\": str(item.get(\"quantity\", \"\")),\n",
    "                \"sequence\": str(item.get(\"sequence\", \"\")),\n",
    "                \"unitPrice\": str(item.get(\"unitPrice\", {}).get(\"value\", \"\")),\n",
    "                \"addition\": str(item.get(\"addition\", {}).get(\"value\", \"\")),\n",
    "                \"discount\": str(item.get(\"discount\", {}).get(\"value\", \"\")),\n",
    "                \"type\": \"principal\"\n",
    "            })\n",
    "\n",
    "            for g in item.get(\"garnishItems\", []):\n",
    "                exploded_rows.append({\n",
    "                    \"order_id\": order_id,\n",
    "                    \"cpf\": cpf,\n",
    "                    \"name\": str(g.get(\"name\", \"\")),\n",
    "                    \"quantity\": str(g.get(\"quantity\", \"\")),\n",
    "                    \"sequence\": str(g.get(\"sequence\", \"\")),\n",
    "                    \"unitPrice\": str(g.get(\"unitPrice\", {}).get(\"value\", \"\")),\n",
    "                    \"addition\": str(g.get(\"addition\", {}).get(\"value\", \"\")),\n",
    "                    \"discount\": str(g.get(\"discount\", {}).get(\"value\", \"\")),\n",
    "                    \"type\": \"garnish\"\n",
    "                })\n",
    "\n",
    "    # Salva o resultado do chunk direto\n",
    "    if exploded_rows:\n",
    "        df_chunk = pl.DataFrame(exploded_rows)\n",
    "        df_chunk.write_parquet(os.path.join(pasta_projeto,f\"chunk_{start}.parquet\"))\n",
    "        del df_chunk\n",
    "\n",
    "    # Limpa memória\n",
    "    del chunk, chunk_valid, chunk_invalid, exploded_rows\n",
    "    gc.collect()\n",
    "\n",
    "print(\"Todos os chunks processados e salvos em disco com sucesso.\")\n"
   ]
  },
  {
   "cell_type": "code",
   "execution_count": 7,
   "id": "9b4f882d",
   "metadata": {},
   "outputs": [
    {
     "data": {
      "text/plain": [
       "31"
      ]
     },
     "execution_count": 7,
     "metadata": {},
     "output_type": "execute_result"
    }
   ],
   "source": [
    "del df_order_details # Liberar memória\n",
    "gc.collect()  # Coletar lixo para liberar memória"
   ]
  },
  {
   "cell_type": "code",
   "execution_count": 4,
   "id": "c3de1709",
   "metadata": {},
   "outputs": [],
   "source": [
    "\n",
    "arquivos = glob.glob(os.path.join(pasta_projeto,\"chunk_*.parquet\"))\n",
    "dfs_parquet = [pl.read_parquet(arq) for arq in arquivos]\n",
    "df_order_details_explodido = pl.concat(dfs_parquet).sort(by=[\"order_id\", \"sequence\"])"
   ]
  },
  {
   "cell_type": "code",
   "execution_count": 5,
   "id": "938db111",
   "metadata": {},
   "outputs": [
    {
     "data": {
      "text/plain": [
       "31"
      ]
     },
     "execution_count": 5,
     "metadata": {},
     "output_type": "execute_result"
    }
   ],
   "source": [
    "del dfs_parquet # Liberar memória\n",
    "gc.collect() # Coletar lixo para liberar memória"
   ]
  },
  {
   "cell_type": "code",
   "execution_count": null,
   "id": "3a1f7dc9",
   "metadata": {},
   "outputs": [
    {
     "data": {
      "text/html": [
       "<div><style>\n",
       ".dataframe > thead > tr,\n",
       ".dataframe > tbody > tr {\n",
       "  text-align: right;\n",
       "  white-space: pre-wrap;\n",
       "}\n",
       "</style>\n",
       "<small>shape: (10_346_686, 5)</small><table border=\"1\" class=\"dataframe\"><thead><tr><th>order_id</th><th>name</th><th>sequence</th><th>quantity</th><th>qtd_mesmo_item</th></tr><tr><td>str</td><td>str</td><td>str</td><td>str</td><td>u32</td></tr></thead><tbody><tr><td>&quot;cba8476ef7a4a3ac8c1d45bb2c94c0…</td><td>&quot;1/2 17 SALAMINHO&quot;</td><td>&quot;51&quot;</td><td>&quot;1.0&quot;</td><td>64</td></tr><tr><td>&quot;cba8476ef7a4a3ac8c1d45bb2c94c0…</td><td>&quot;1/2 25 LOMBINHO&quot;</td><td>&quot;115&quot;</td><td>&quot;1.0&quot;</td><td>64</td></tr><tr><td>&quot;cba8476ef7a4a3ac8c1d45bb2c94c0…</td><td>&quot;1/2 13 MILHO COM BACON&quot;</td><td>&quot;32&quot;</td><td>&quot;1.0&quot;</td><td>64</td></tr><tr><td>&quot;cba8476ef7a4a3ac8c1d45bb2c94c0…</td><td>&quot;1/2 04 PIZZA DONA EUGÊNIA&quot;</td><td>&quot;4&quot;</td><td>&quot;1.0&quot;</td><td>64</td></tr><tr><td>&quot;cba8476ef7a4a3ac8c1d45bb2c94c0…</td><td>&quot;1/2 14 SICILIANA&quot;</td><td>&quot;35&quot;</td><td>&quot;1.0&quot;</td><td>64</td></tr><tr><td>&hellip;</td><td>&hellip;</td><td>&hellip;</td><td>&hellip;</td><td>&hellip;</td></tr><tr><td>&quot;9d06cb84bcc516438968d6d34ab071…</td><td>&quot;HARUMAKI EBI&quot;</td><td>&quot;5&quot;</td><td>&quot;2.0&quot;</td><td>1</td></tr><tr><td>&quot;8be37894c78e0f149658cc894615b3…</td><td>&quot;SEM mostarda&quot;</td><td>&quot;4&quot;</td><td>&quot;1.0&quot;</td><td>1</td></tr><tr><td>&quot;9665254b5f71aff69f7cd9e19e2ff9…</td><td>&quot;Parfait de Iogurte&quot;</td><td>&quot;1&quot;</td><td>&quot;1.0&quot;</td><td>1</td></tr><tr><td>&quot;0e8187102b4a83ae8d8afe3da8da63…</td><td>&quot;PORTUGUESA&quot;</td><td>&quot;3&quot;</td><td>&quot;1.0&quot;</td><td>1</td></tr><tr><td>&quot;22b5af9d1bd67183d768bb65ad0611…</td><td>&quot;403 - KING&quot;</td><td>&quot;3&quot;</td><td>&quot;1.0&quot;</td><td>1</td></tr></tbody></table></div>"
      ],
      "text/plain": [
       "shape: (10_346_686, 5)\n",
       "┌───────────────────────────────┬───────────────────────────┬──────────┬──────────┬────────────────┐\n",
       "│ order_id                      ┆ name                      ┆ sequence ┆ quantity ┆ qtd_mesmo_item │\n",
       "│ ---                           ┆ ---                       ┆ ---      ┆ ---      ┆ ---            │\n",
       "│ str                           ┆ str                       ┆ str      ┆ str      ┆ u32            │\n",
       "╞═══════════════════════════════╪═══════════════════════════╪══════════╪══════════╪════════════════╡\n",
       "│ cba8476ef7a4a3ac8c1d45bb2c94c ┆ 1/2 17 SALAMINHO          ┆ 51       ┆ 1.0      ┆ 64             │\n",
       "│ 0…                            ┆                           ┆          ┆          ┆                │\n",
       "│ cba8476ef7a4a3ac8c1d45bb2c94c ┆ 1/2 25 LOMBINHO           ┆ 115      ┆ 1.0      ┆ 64             │\n",
       "│ 0…                            ┆                           ┆          ┆          ┆                │\n",
       "│ cba8476ef7a4a3ac8c1d45bb2c94c ┆ 1/2 13 MILHO COM BACON    ┆ 32       ┆ 1.0      ┆ 64             │\n",
       "│ 0…                            ┆                           ┆          ┆          ┆                │\n",
       "│ cba8476ef7a4a3ac8c1d45bb2c94c ┆ 1/2 04 PIZZA DONA EUGÊNIA ┆ 4        ┆ 1.0      ┆ 64             │\n",
       "│ 0…                            ┆                           ┆          ┆          ┆                │\n",
       "│ cba8476ef7a4a3ac8c1d45bb2c94c ┆ 1/2 14 SICILIANA          ┆ 35       ┆ 1.0      ┆ 64             │\n",
       "│ 0…                            ┆                           ┆          ┆          ┆                │\n",
       "│ …                             ┆ …                         ┆ …        ┆ …        ┆ …              │\n",
       "│ 9d06cb84bcc516438968d6d34ab07 ┆ HARUMAKI EBI              ┆ 5        ┆ 2.0      ┆ 1              │\n",
       "│ 1…                            ┆                           ┆          ┆          ┆                │\n",
       "│ 8be37894c78e0f149658cc894615b ┆ SEM mostarda              ┆ 4        ┆ 1.0      ┆ 1              │\n",
       "│ 3…                            ┆                           ┆          ┆          ┆                │\n",
       "│ 9665254b5f71aff69f7cd9e19e2ff ┆ Parfait de Iogurte        ┆ 1        ┆ 1.0      ┆ 1              │\n",
       "│ 9…                            ┆                           ┆          ┆          ┆                │\n",
       "│ 0e8187102b4a83ae8d8afe3da8da6 ┆ PORTUGUESA                ┆ 3        ┆ 1.0      ┆ 1              │\n",
       "│ 3…                            ┆                           ┆          ┆          ┆                │\n",
       "│ 22b5af9d1bd67183d768bb65ad061 ┆ 403 - KING                ┆ 3        ┆ 1.0      ┆ 1              │\n",
       "│ 1…                            ┆                           ┆          ┆          ┆                │\n",
       "└───────────────────────────────┴───────────────────────────┴──────────┴──────────┴────────────────┘"
      ]
     },
     "execution_count": 10,
     "metadata": {},
     "output_type": "execute_result"
    }
   ],
   "source": [
    "# Validando se existe itens duplicados após 'explodir' a coluna JSON\n",
    "df_order_details_explodido.group_by(\"order_id\",\"name\",\"sequence\",\"quantity\").agg([\n",
    "    pl.col(\"name\").count().alias(\"qtd_mesmo_item\")\n",
    "]).sort(pl.col(\"qtd_mesmo_item\"), descending=True)"
   ]
  },
  {
   "cell_type": "code",
   "execution_count": 5,
   "id": "32c6e26d",
   "metadata": {},
   "outputs": [],
   "source": [
    "# Transformando algumas colunas e adicionando a coluna de data de inserção, além de remover os itens duplicados\n",
    "df_order_details_explodido = df_order_details_explodido.with_columns(\n",
    "    pl.col(\"cpf\").cast(pl.Utf8).str.zfill(11),\n",
    "    pl.col(\"name\").str.to_titlecase(),\n",
    "    pl.col(\"quantity\").cast(pl.Float64),\n",
    "    pl.col(\"sequence\").cast(pl.Int32),\n",
    "    pl.col(\"unitPrice\").cast(pl.Float64) / 100,\n",
    "    pl.col(\"addition\").cast(pl.Float64)  / 100,\n",
    "    pl.col(\"discount\").cast(pl.Float64)  / 100,\n",
    "    pl.col(\"type\").cast(pl.Utf8),\n",
    "    pl.lit(datetime.datetime.now(datetime.UTC)).alias(\"insert_date\")\n",
    ").unique()"
   ]
  },
  {
   "cell_type": "code",
   "execution_count": 8,
   "id": "8650c866",
   "metadata": {},
   "outputs": [
    {
     "name": "stdout",
     "output_type": "stream",
     "text": [
      "Dataset 'case-ifood-fsg.silver' pronto.\n",
      "Convertido de Polars para Pandas.\n",
      "Enviando chunk 1/11 com 1000000 linhas...\n",
      "Enviando chunk 2/11 com 1000000 linhas...\n",
      "Enviando chunk 3/11 com 1000000 linhas...\n",
      "Enviando chunk 4/11 com 1000000 linhas...\n",
      "Enviando chunk 5/11 com 1000000 linhas...\n",
      "Enviando chunk 6/11 com 1000000 linhas...\n",
      "Enviando chunk 7/11 com 1000000 linhas...\n",
      "Enviando chunk 8/11 com 1000000 linhas...\n",
      "Enviando chunk 9/11 com 1000000 linhas...\n",
      "Enviando chunk 10/11 com 1000000 linhas...\n",
      "Enviando chunk 11/11 com 346686 linhas...\n",
      "Tabela 'case-ifood-fsg.silver.order_details' carregada com 10346686 linhas.\n"
     ]
    }
   ],
   "source": [
    "create_dataset_and_table(\n",
    "    df=df_order_details_explodido,  \n",
    "    dataset_nome=\"silver\",\n",
    "    tabela_nome=\"order_details\",\n",
    "    client=client,\n",
    "    use_chunk=True\n",
    ")"
   ]
  },
  {
   "cell_type": "code",
   "execution_count": 9,
   "id": "6c789573",
   "metadata": {},
   "outputs": [
    {
     "data": {
      "text/plain": [
       "18"
      ]
     },
     "execution_count": 9,
     "metadata": {},
     "output_type": "execute_result"
    }
   ],
   "source": [
    "del df_order_details_explodido, dfs_parquet\n",
    "gc.collect()"
   ]
  }
 ],
 "metadata": {
  "kernelspec": {
   "display_name": "Python 3",
   "language": "python",
   "name": "python3"
  },
  "language_info": {
   "codemirror_mode": {
    "name": "ipython",
    "version": 3
   },
   "file_extension": ".py",
   "mimetype": "text/x-python",
   "name": "python",
   "nbconvert_exporter": "python",
   "pygments_lexer": "ipython3",
   "version": "3.12.4"
  }
 },
 "nbformat": 4,
 "nbformat_minor": 5
}
