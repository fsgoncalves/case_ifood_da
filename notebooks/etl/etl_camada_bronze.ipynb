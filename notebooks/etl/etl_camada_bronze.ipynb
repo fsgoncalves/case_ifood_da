{
 "cells": [
  {
   "cell_type": "markdown",
   "id": "de9c0f98",
   "metadata": {},
   "source": [
    "### Configuração inicial"
   ]
  },
  {
   "cell_type": "code",
   "execution_count": 1,
   "id": "8490378b",
   "metadata": {},
   "outputs": [],
   "source": [
    "import sys\n",
    "sys.path.append('D:\\\\__case_ifood\\\\notebooks\\\\utils') # Defina aqui a pasta"
   ]
  },
  {
   "cell_type": "code",
   "execution_count": null,
   "id": "bce55010",
   "metadata": {},
   "outputs": [],
   "source": [
    "import importlib\n",
    "import utils\n",
    "\n",
    "# Recarregar o módulo 'utils'\n",
    "importlib.reload(utils)\n",
    "\n",
    "from utils import get_bq_client, create_dataset_and_table, credencial_gcp, pasta_projeto, bucket_name, os, bigquery, service_account, storage, pl, pd,  gc, tarfile, io\n"
   ]
  },
  {
   "cell_type": "code",
   "execution_count": null,
   "id": "c58e5677",
   "metadata": {},
   "outputs": [],
   "source": [
    "os.environ[\"GOOGLE_APPLICATION_CREDENTIALS\"] = credencial_gcp\n",
    "\n",
    "# Define o diretório para salvar os arquivos baixados do Bucket\n",
    "diretorio_arquivos_bucket = os.path.join(pasta_projeto,\"bases_dados\")\n",
    "\n",
    "# Nome do bucket e do projeto\n",
    "bucket_name = \"case_ifood_fsg\"\n",
    "#id_projeto = \"case-ifood-fsg\"\n",
    "\n",
    "client = storage.Client()\n",
    "\n",
    "client_bq = get_bq_client() #bigquery.Client(project=id_projeto)\n"
   ]
  },
  {
   "cell_type": "markdown",
   "id": "1d49eafa",
   "metadata": {},
   "source": [
    "### Para o arquivo order.json.gz não foi possível fazer o insert com processamento local por restrições de memória, com isso, foi criado a tabela diretamente no BQ na camada bronze chamada orders."
   ]
  },
  {
   "cell_type": "markdown",
   "id": "360aaec9",
   "metadata": {},
   "source": [
    "### Carrega o arquivo restaurant.csv na camada Bronze do BQ como 'merchants'"
   ]
  },
  {
   "cell_type": "code",
   "execution_count": null,
   "id": "43819353",
   "metadata": {},
   "outputs": [
    {
     "name": "stdout",
     "output_type": "stream",
     "text": [
      "Dataset 'case-ifood-fsg.bronze' pronto.\n",
      "Tabela 'case-ifood-fsg.bronze.merchants' criada com 7292 linhas.\n"
     ]
    },
    {
     "data": {
      "text/plain": [
       "495"
      ]
     },
     "execution_count": 11,
     "metadata": {},
     "output_type": "execute_result"
    }
   ],
   "source": [
    "# Define o nome do arquivo\n",
    "file_name_merchants = \"restaurant.csv.gz\" \n",
    "\n",
    "# Acessa o bucket e o blob (arquivo)\n",
    "bucket_merchants = client.bucket(bucket_name)\n",
    "blob_merchants = bucket_merchants.blob(file_name_merchants)\n",
    "\n",
    "# Faz o download como bytes\n",
    "data_bytes_merchants = blob_merchants.download_as_bytes()\n",
    "\n",
    "df_merchants = pd.read_csv(io.BytesIO(data_bytes_merchants), compression='gzip')\n",
    "\n",
    "# Criando a coluna que indica quando o registro foi processado para ser salvo no BQ\n",
    "df_merchants[\"insert_date\"] = pd.Timestamp.today()\n",
    "\n",
    "# Insere os dados no BQ\n",
    "create_dataset_and_table(\n",
    "    df=df_merchants,\n",
    "    dataset_nome=\"bronze\",\n",
    "    tabela_nome=\"merchants\",\n",
    "    client=client_bq\n",
    ")\n",
    "\n",
    "del file_name_merchants\n",
    "del bucket_merchants\n",
    "del blob_merchants\n",
    "del data_bytes_merchants\n",
    "del df_merchants\n",
    "gc.collect()\n"
   ]
  },
  {
   "cell_type": "markdown",
   "id": "d5c8d992",
   "metadata": {},
   "source": [
    "### Carrega o arquivo consumer.csv na camada Bronze do BQ como 'consumer'"
   ]
  },
  {
   "cell_type": "code",
   "execution_count": null,
   "id": "b79c311e",
   "metadata": {},
   "outputs": [
    {
     "name": "stdout",
     "output_type": "stream",
     "text": [
      "Dataset 'case-ifood-fsg.bronze' pronto.\n",
      "Tabela 'case-ifood-fsg.bronze.consumer' criada com 806156 linhas.\n"
     ]
    },
    {
     "data": {
      "text/plain": [
       "437"
      ]
     },
     "execution_count": 12,
     "metadata": {},
     "output_type": "execute_result"
    }
   ],
   "source": [
    "file_name_consumer = \"consumer.csv.gz\" \n",
    "\n",
    "# Acessa o bucket e o blob (arquivo)\n",
    "bucket_consumer = client.bucket(bucket_name)\n",
    "blob_consumer = bucket_consumer.blob(file_name_consumer)\n",
    "\n",
    "# Faz o download como bytes\n",
    "data_bytes_consumer = blob_consumer.download_as_bytes()\n",
    "\n",
    "df_consumer = pd.read_csv(io.BytesIO(data_bytes_consumer), compression='gzip')\n",
    "\n",
    "# Criando a coluna que indica quando o registro foi processado para ser salvo no BQ\n",
    "df_consumer[\"insert_date\"] = pd.Timestamp.today()\n",
    "\n",
    "# Insere os dados no BQ\n",
    "create_dataset_and_table(\n",
    "    df=df_consumer,\n",
    "    dataset_nome=\"bronze\",\n",
    "    tabela_nome=\"consumer\",\n",
    "    client=client_bq\n",
    ")\n",
    "\n",
    "del file_name_consumer # Liberar memória\n",
    "del bucket_consumer # Liberar memória\n",
    "del blob_consumer # Liberar memória\n",
    "del data_bytes_consumer # Liberar memória\n",
    "del df_consumer # Liberar memória\n",
    "\n",
    "gc.collect() # Coletar lixo para liberar memória"
   ]
  },
  {
   "cell_type": "markdown",
   "id": "375e5894",
   "metadata": {},
   "source": [
    "### Carrega o arquivo ab_test_ref.csv na camada Bronze do BQ como ab_test"
   ]
  },
  {
   "cell_type": "code",
   "execution_count": 17,
   "id": "d352f86b",
   "metadata": {},
   "outputs": [
    {
     "name": "stdout",
     "output_type": "stream",
     "text": [
      "Arquivo salvo em: D:\\__case_ifood\\bases_dados\n"
     ]
    }
   ],
   "source": [
    "file_name_ab_test = \"ab_test_ref.tar.gz\" \n",
    "\n",
    "# Acessa o bucket e o blob (arquivo)\n",
    "bucket_ab_test = client.bucket(bucket_name)\n",
    "blob_ab_test = bucket_ab_test.blob(file_name_ab_test)\n",
    "\n",
    "# Faz o download como bytes\n",
    "data_bytes_ab_test = blob_ab_test.download_as_bytes()\n",
    "\n",
    "# Salva o arquivo na máquina local\n",
    "blob_ab_test.download_to_filename(os.path.join(diretorio_arquivos_bucket,file_name_ab_test))\n",
    "print(f\"Arquivo salvo em: {diretorio_arquivos_bucket}\")\n",
    "\n",
    "del bucket_ab_test # Liberar memória\n",
    "del blob_ab_test # Liberar memória\n",
    "del data_bytes_ab_test # Liberar memória"
   ]
  },
  {
   "cell_type": "code",
   "execution_count": null,
   "id": "29e69351",
   "metadata": {},
   "outputs": [
    {
     "name": "stderr",
     "output_type": "stream",
     "text": [
      "C:\\Users\\fsgon\\AppData\\Local\\Temp\\ipykernel_15152\\1735237186.py:5: DeprecationWarning: Python 3.14 will, by default, filter extracted tar archives and reject files or modify their metadata. Use the filter argument to control this behavior.\n",
      "  tar.extractall(path=diretorio_arquivos_bucket)\n"
     ]
    },
    {
     "name": "stdout",
     "output_type": "stream",
     "text": [
      "Dataset 'case-ifood-fsg.bronze' pronto.\n",
      "Tabela 'case-ifood-fsg.bronze.ab_test' criada com 806467 linhas.\n"
     ]
    },
    {
     "data": {
      "text/plain": [
       "1329"
      ]
     },
     "execution_count": 18,
     "metadata": {},
     "output_type": "execute_result"
    }
   ],
   "source": [
    "nome_arquivo_leitura = \"ab_test_ref.csv\"\n",
    "\n",
    "# Extrai tudo\n",
    "with tarfile.open(os.path.join(diretorio_arquivos_bucket,file_name_ab_test), \"r:gz\") as tar:\n",
    "    tar.extractall(path=diretorio_arquivos_bucket)\n",
    "\n",
    "# Faz a leitura do arquivo que possui os dados\n",
    "df_ab_test = pd.read_csv(os.path.join(diretorio_arquivos_bucket,nome_arquivo_leitura), encoding=\"utf-8\")\n",
    "\n",
    "# Criando a coluna que indica quando o registro foi processado para ser salvo no BQ\n",
    "df_ab_test[\"insert_date\"] = pd.Timestamp.today()\n",
    "\n",
    "# Insere os dados no BQ\n",
    "create_dataset_and_table(\n",
    "    df=df_ab_test,\n",
    "    dataset_nome=\"bronze\",\n",
    "    tabela_nome=\"ab_test\",\n",
    "    client=client_bq\n",
    ")\n",
    "\n",
    "del nome_arquivo_leitura # Liberar memória\n",
    "del file_name_ab_test # Liberar memória\n",
    "del df_ab_test # Liberar memória\n",
    "gc.collect() # Coletar lixo para liberar memória"
   ]
  }
 ],
 "metadata": {
  "kernelspec": {
   "display_name": "Python 3",
   "language": "python",
   "name": "python3"
  },
  "language_info": {
   "codemirror_mode": {
    "name": "ipython",
    "version": 3
   },
   "file_extension": ".py",
   "mimetype": "text/x-python",
   "name": "python",
   "nbconvert_exporter": "python",
   "pygments_lexer": "ipython3",
   "version": "3.12.4"
  }
 },
 "nbformat": 4,
 "nbformat_minor": 5
}
